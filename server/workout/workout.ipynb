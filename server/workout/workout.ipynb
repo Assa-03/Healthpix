{
 "cells": [
  {
   "cell_type": "code",
   "execution_count": 1,
   "metadata": {},
   "outputs": [],
   "source": [
    "import pandas as pd    \n",
    "import matplotlib.pyplot as plt\n",
    "import numpy as np   \n",
    "import plotly     "
   ]
  },
  {
   "cell_type": "code",
   "execution_count": 2,
   "metadata": {},
   "outputs": [
    {
     "data": {
      "text/html": [
       "<div>\n",
       "<style scoped>\n",
       "    .dataframe tbody tr th:only-of-type {\n",
       "        vertical-align: middle;\n",
       "    }\n",
       "\n",
       "    .dataframe tbody tr th {\n",
       "        vertical-align: top;\n",
       "    }\n",
       "\n",
       "    .dataframe thead th {\n",
       "        text-align: right;\n",
       "    }\n",
       "</style>\n",
       "<table border=\"1\" class=\"dataframe\">\n",
       "  <thead>\n",
       "    <tr style=\"text-align: right;\">\n",
       "      <th></th>\n",
       "      <th>Age</th>\n",
       "      <th>Height</th>\n",
       "      <th>Weight</th>\n",
       "      <th>Bmi</th>\n",
       "      <th>BmiClass</th>\n",
       "      <th>dance</th>\n",
       "      <th>target</th>\n",
       "    </tr>\n",
       "  </thead>\n",
       "  <tbody>\n",
       "    <tr>\n",
       "      <th>0</th>\n",
       "      <td>61</td>\n",
       "      <td>1.85</td>\n",
       "      <td>109.30</td>\n",
       "      <td>31.935720</td>\n",
       "      <td>Obese</td>\n",
       "      <td>yes</td>\n",
       "      <td>Dance</td>\n",
       "    </tr>\n",
       "    <tr>\n",
       "      <th>1</th>\n",
       "      <td>60</td>\n",
       "      <td>1.71</td>\n",
       "      <td>79.02</td>\n",
       "      <td>27.023700</td>\n",
       "      <td>Overweight</td>\n",
       "      <td>yes</td>\n",
       "      <td>Dance</td>\n",
       "    </tr>\n",
       "    <tr>\n",
       "      <th>2</th>\n",
       "      <td>60</td>\n",
       "      <td>1.55</td>\n",
       "      <td>74.70</td>\n",
       "      <td>31.092612</td>\n",
       "      <td>Obese</td>\n",
       "      <td>no</td>\n",
       "      <td>Cardio</td>\n",
       "    </tr>\n",
       "    <tr>\n",
       "      <th>3</th>\n",
       "      <td>60</td>\n",
       "      <td>1.46</td>\n",
       "      <td>35.90</td>\n",
       "      <td>16.841809</td>\n",
       "      <td>Underweight</td>\n",
       "      <td>no</td>\n",
       "      <td>Strength_training</td>\n",
       "    </tr>\n",
       "    <tr>\n",
       "      <th>4</th>\n",
       "      <td>60</td>\n",
       "      <td>1.58</td>\n",
       "      <td>97.10</td>\n",
       "      <td>38.896010</td>\n",
       "      <td>Obese</td>\n",
       "      <td>yes</td>\n",
       "      <td>Dance</td>\n",
       "    </tr>\n",
       "    <tr>\n",
       "      <th>5</th>\n",
       "      <td>59</td>\n",
       "      <td>1.71</td>\n",
       "      <td>79.32</td>\n",
       "      <td>27.126295</td>\n",
       "      <td>Overweight</td>\n",
       "      <td>yes</td>\n",
       "      <td>Dance</td>\n",
       "    </tr>\n",
       "    <tr>\n",
       "      <th>6</th>\n",
       "      <td>59</td>\n",
       "      <td>1.70</td>\n",
       "      <td>73.32</td>\n",
       "      <td>25.370242</td>\n",
       "      <td>Overweight</td>\n",
       "      <td>yes</td>\n",
       "      <td>Dance</td>\n",
       "    </tr>\n",
       "    <tr>\n",
       "      <th>7</th>\n",
       "      <td>59</td>\n",
       "      <td>1.72</td>\n",
       "      <td>85.32</td>\n",
       "      <td>28.839913</td>\n",
       "      <td>Overweight</td>\n",
       "      <td>no</td>\n",
       "      <td>Cardio+strength_training</td>\n",
       "    </tr>\n",
       "    <tr>\n",
       "      <th>8</th>\n",
       "      <td>59</td>\n",
       "      <td>1.46</td>\n",
       "      <td>36.00</td>\n",
       "      <td>16.888722</td>\n",
       "      <td>Underweight</td>\n",
       "      <td>yes</td>\n",
       "      <td>Dance</td>\n",
       "    </tr>\n",
       "    <tr>\n",
       "      <th>9</th>\n",
       "      <td>59</td>\n",
       "      <td>1.83</td>\n",
       "      <td>104.70</td>\n",
       "      <td>31.263997</td>\n",
       "      <td>Obese</td>\n",
       "      <td>yes</td>\n",
       "      <td>Dance</td>\n",
       "    </tr>\n",
       "  </tbody>\n",
       "</table>\n",
       "</div>"
      ],
      "text/plain": [
       "   Age  Height  Weight        Bmi     BmiClass dance                    target\n",
       "0   61    1.85  109.30  31.935720        Obese   yes                     Dance\n",
       "1   60    1.71   79.02  27.023700   Overweight   yes                     Dance\n",
       "2   60    1.55   74.70  31.092612        Obese    no                    Cardio\n",
       "3   60    1.46   35.90  16.841809  Underweight    no         Strength_training\n",
       "4   60    1.58   97.10  38.896010        Obese   yes                     Dance\n",
       "5   59    1.71   79.32  27.126295   Overweight   yes                     Dance\n",
       "6   59    1.70   73.32  25.370242   Overweight   yes                     Dance\n",
       "7   59    1.72   85.32  28.839913   Overweight    no  Cardio+strength_training\n",
       "8   59    1.46   36.00  16.888722  Underweight   yes                     Dance\n",
       "9   59    1.83  104.70  31.263997        Obese   yes                     Dance"
      ]
     },
     "execution_count": 2,
     "metadata": {},
     "output_type": "execute_result"
    }
   ],
   "source": [
    "data = pd.read_csv(\"D:/69th_stop/fitness/workout/data/base.csv\")\n",
    "data = pd.DataFrame(data)\n",
    "data.head(10)"
   ]
  },
  {
   "cell_type": "code",
   "execution_count": 3,
   "metadata": {},
   "outputs": [
    {
     "name": "stdout",
     "output_type": "stream",
     "text": [
      "Age         0\n",
      "Height      0\n",
      "Weight      0\n",
      "Bmi         0\n",
      "BmiClass    0\n",
      "dance       0\n",
      "target      0\n",
      "dtype: int64\n"
     ]
    }
   ],
   "source": [
    "print(data.isna().sum())"
   ]
  },
  {
   "cell_type": "code",
   "execution_count": 4,
   "metadata": {},
   "outputs": [
    {
     "data": {
      "application/vnd.plotly.v1+json": {
       "config": {
        "plotlyServerURL": "https://plot.ly"
       },
       "data": [
        {
         "alignmentgroup": "True",
         "hovertemplate": "BmiClass=%{x}<br>target=%{y}<extra></extra>",
         "legendgroup": "",
         "marker": {
          "color": "#636efa",
          "pattern": {
           "shape": ""
          }
         },
         "name": "",
         "offsetgroup": "",
         "orientation": "v",
         "showlegend": false,
         "textposition": "auto",
         "type": "bar",
         "x": [
          "Obese",
          "Overweight",
          "Obese",
          "Underweight",
          "Obese",
          "Overweight",
          "Overweight",
          "Overweight",
          "Underweight",
          "Obese",
          "Overweight",
          "Overweight",
          "Overweight",
          "Underweight",
          "Overweight",
          "Overweight",
          "Overweight",
          "Obese",
          "Obese",
          "Underweight",
          "Obese",
          "Overweight",
          "Overweight",
          "Overweight",
          "Overweight",
          "Underweight",
          "Obese",
          "Obese",
          "Overweight",
          "Overweight",
          "Overweight",
          "Obese",
          "Obese",
          "Underweight",
          "Overweight",
          "Overweight",
          "Obese",
          "Underweight",
          "Obese",
          "Overweight",
          "Overweight",
          "Underweight",
          "Obese",
          "Overweight",
          "Overweight",
          "Overweight",
          "Underweight",
          "Obese",
          "Overweight",
          "Overweight",
          "Overweight",
          "Underweight",
          "Overweight",
          "Obese",
          "Overweight",
          "Overweight",
          "Overweight",
          "Obese",
          "Underweight",
          "Overweight",
          "Underweight",
          "Obese",
          "Obese",
          "Overweight",
          "Overweight",
          "Overweight",
          "Overweight",
          "Underweight",
          "Overweight",
          "Underweight",
          "Obese",
          "Overweight",
          "Normal Weight",
          "Overweight",
          "Obese",
          "Underweight",
          "Overweight",
          "Underweight",
          "Obese",
          "Overweight",
          "Normal Weight",
          "Overweight",
          "Underweight",
          "Overweight",
          "Underweight",
          "Obese",
          "Obese",
          "Overweight",
          "Normal Weight",
          "Overweight",
          "Normal Weight",
          "Overweight",
          "Underweight",
          "Obese",
          "Overweight",
          "Normal Weight",
          "Overweight",
          "Obese",
          "Normal Weight",
          "Overweight",
          "Underweight",
          "Overweight",
          "Obese",
          "Overweight",
          "Normal Weight",
          "Overweight",
          "Normal Weight",
          "Overweight",
          "Underweight",
          "Overweight",
          "Obese",
          "Overweight",
          "Normal Weight",
          "Overweight",
          "Normal Weight",
          "Overweight",
          "Underweight",
          "Obese",
          "Overweight",
          "Normal Weight",
          "Overweight",
          "Obese",
          "Normal Weight",
          "Normal Weight",
          "Underweight",
          "Overweight",
          "Obese",
          "Overweight",
          "Normal Weight",
          "Overweight",
          "Normal Weight",
          "Overweight",
          "Underweight",
          "Obese",
          "Overweight",
          "Normal Weight",
          "Overweight",
          "Normal Weight",
          "Obese",
          "Normal Weight",
          "Overweight",
          "Underweight",
          "Obese",
          "Overweight",
          "Normal Weight",
          "Overweight",
          "Normal Weight",
          "Normal Weight",
          "Overweight",
          "Underweight",
          "Overweight",
          "Obese",
          "Overweight",
          "Normal Weight",
          "Overweight",
          "Normal Weight",
          "Overweight",
          "Normal Weight",
          "Overweight",
          "Underweight",
          "Overweight",
          "Obese",
          "Overweight",
          "Normal Weight",
          "Overweight",
          "Normal Weight",
          "Overweight",
          "Underweight",
          "Overweight",
          "Underweight",
          "Obese",
          "Overweight",
          "Normal Weight",
          "Overweight",
          "Normal Weight",
          "Overweight",
          "Underweight",
          "Normal Weight",
          "Normal Weight",
          "Underweight",
          "Obese",
          "Overweight",
          "Normal Weight",
          "Overweight",
          "Normal Weight",
          "Overweight",
          "Overweight",
          "Underweight",
          "Normal Weight",
          "Normal Weight",
          "Normal Weight",
          "Underweight",
          "Overweight",
          "Obese",
          "Overweight",
          "Normal Weight",
          "Overweight",
          "Normal Weight",
          "Overweight",
          "Underweight",
          "Normal Weight",
          "Normal Weight",
          "Normal Weight",
          "Normal Weight",
          "Normal Weight",
          "Underweight",
          "Overweight",
          "Obese",
          "Overweight",
          "Normal Weight",
          "Overweight",
          "Normal Weight",
          "Overweight",
          "Underweight",
          "Normal Weight",
          "Normal Weight",
          "Normal Weight",
          "Normal Weight",
          "Underweight",
          "Overweight",
          "Obese",
          "Overweight",
          "Normal Weight",
          "Overweight",
          "Normal Weight",
          "Obese",
          "Underweight",
          "Normal Weight",
          "Normal Weight",
          "Normal Weight",
          "Normal Weight",
          "Normal Weight",
          "Normal Weight",
          "Underweight",
          "Overweight",
          "Obese",
          "Overweight",
          "Normal Weight",
          "Overweight",
          "Normal Weight",
          "Overweight",
          "Underweight",
          "Normal Weight",
          "Normal Weight",
          "Normal Weight",
          "Normal Weight",
          "Normal Weight",
          "Overweight",
          "Underweight",
          "Overweight",
          "Obese",
          "Overweight",
          "Normal Weight",
          "Overweight",
          "Normal Weight",
          "Overweight",
          "Obese",
          "Obese",
          "Obese",
          "Obese",
          "Normal Weight",
          "Normal Weight",
          "Normal Weight",
          "Normal Weight",
          "Normal Weight",
          "Overweight",
          "Overweight",
          "Normal Weight",
          "Underweight",
          "Overweight",
          "Obese",
          "Normal Weight",
          "Normal Weight",
          "Normal Weight",
          "Normal Weight",
          "Normal Weight",
          "Obese",
          "Obese",
          "Obese",
          "Normal Weight",
          "Normal Weight",
          "Normal Weight",
          "Normal Weight",
          "Normal Weight",
          "Overweight",
          "Overweight",
          "Normal Weight",
          "Underweight",
          "Overweight",
          "Obese",
          "Normal Weight",
          "Normal Weight",
          "Normal Weight",
          "Normal Weight",
          "Normal Weight",
          "Normal Weight",
          "Obese",
          "Obese",
          "Obese",
          "Normal Weight",
          "Normal Weight",
          "Normal Weight",
          "Normal Weight",
          "Normal Weight",
          "Normal Weight",
          "Overweight",
          "Overweight",
          "Normal Weight",
          "Underweight",
          "Overweight",
          "Obese",
          "Normal Weight",
          "Normal Weight",
          "Normal Weight",
          "Normal Weight",
          "Normal Weight",
          "Obese",
          "Obese",
          "Obese",
          "Normal Weight",
          "Normal Weight",
          "Normal Weight",
          "Normal Weight",
          "Normal Weight",
          "Overweight",
          "Overweight",
          "Normal Weight",
          "Underweight",
          "Overweight",
          "Obese",
          "Normal Weight",
          "Normal Weight",
          "Normal Weight",
          "Normal Weight",
          "Normal Weight",
          "Obese",
          "Obese",
          "Obese",
          "Normal Weight",
          "Normal Weight",
          "Normal Weight",
          "Normal Weight",
          "Normal Weight",
          "Overweight",
          "Overweight",
          "Normal Weight",
          "Underweight",
          "Overweight",
          "Obese",
          "Normal Weight",
          "Normal Weight",
          "Normal Weight",
          "Normal Weight",
          "Normal Weight",
          "Obese",
          "Obese",
          "Obese",
          "Normal Weight",
          "Normal Weight",
          "Normal Weight",
          "Normal Weight",
          "Normal Weight",
          "Normal Weight",
          "Normal Weight",
          "Normal Weight",
          "Overweight",
          "Overweight",
          "Normal Weight",
          "Underweight",
          "Overweight",
          "Obese",
          "Normal Weight",
          "Normal Weight",
          "Normal Weight",
          "Normal Weight",
          "Normal Weight",
          "Obese",
          "Obese",
          "Obese",
          "Normal Weight",
          "Normal Weight",
          "Normal Weight",
          "Normal Weight",
          "Normal Weight",
          "Normal Weight",
          "Normal Weight",
          "Normal Weight",
          "Normal Weight",
          "Underweight",
          "Overweight",
          "Obese",
          "Normal Weight",
          "Normal Weight",
          "Normal Weight",
          "Normal Weight",
          "Normal Weight",
          "Obese",
          "Obese",
          "Obese",
          "Normal Weight",
          "Normal Weight",
          "Normal Weight",
          "Normal Weight",
          "Normal Weight",
          "Normal Weight",
          "Normal Weight",
          "Underweight",
          "Overweight",
          "Normal Weight",
          "Normal Weight",
          "Normal Weight",
          "Normal Weight",
          "Normal Weight",
          "Normal Weight",
          "Normal Weight",
          "Obese",
          "Obese",
          "Obese",
          "Obese",
          "Normal Weight",
          "Normal Weight",
          "Normal Weight",
          "Normal Weight",
          "Normal Weight",
          "Normal Weight",
          "Normal Weight",
          "Normal Weight",
          "Normal Weight",
          "Normal Weight",
          "Overweight",
          "Obese",
          "Normal Weight",
          "Normal Weight",
          "Normal Weight",
          "Normal Weight",
          "Normal Weight",
          "Normal Weight",
          "Normal Weight",
          "Obese",
          "Obese",
          "Obese",
          "Obese",
          "Underweight",
          "Normal Weight",
          "Normal Weight",
          "Normal Weight",
          "Normal Weight",
          "Normal Weight",
          "Normal Weight",
          "Normal Weight",
          "Normal Weight",
          "Underweight",
          "Underweight",
          "Overweight",
          "Normal Weight",
          "Normal Weight",
          "Normal Weight",
          "Normal Weight",
          "Normal Weight",
          "Normal Weight",
          "Normal Weight",
          "Obese",
          "Obese",
          "Obese",
          "Obese",
          "Underweight",
          "Normal Weight",
          "Normal Weight",
          "Normal Weight",
          "Normal Weight",
          "Normal Weight",
          "Normal Weight",
          "Normal Weight",
          "Underweight",
          "Underweight",
          "Underweight",
          "Underweight",
          "Underweight",
          "Underweight",
          "Underweight",
          "Underweight",
          "Overweight",
          "Normal Weight",
          "Normal Weight",
          "Normal Weight",
          "Normal Weight",
          "Normal Weight",
          "Normal Weight",
          "Normal Weight",
          "Obese",
          "Obese",
          "Obese",
          "Obese",
          "Underweight",
          "Normal Weight",
          "Normal Weight",
          "Normal Weight",
          "Normal Weight",
          "Normal Weight",
          "Normal Weight",
          "Normal Weight",
          "Underweight",
          "Underweight",
          "Underweight",
          "Underweight",
          "Underweight",
          "Underweight",
          "Underweight",
          "Underweight",
          "Overweight",
          "Normal Weight",
          "Normal Weight",
          "Normal Weight",
          "Normal Weight",
          "Normal Weight",
          "Normal Weight",
          "Normal Weight",
          "Overweight",
          "Obese",
          "Obese",
          "Obese",
          "Obese",
          "Underweight",
          "Normal Weight",
          "Normal Weight",
          "Normal Weight",
          "Normal Weight",
          "Normal Weight",
          "Normal Weight",
          "Normal Weight",
          "Underweight",
          "Underweight",
          "Underweight",
          "Underweight",
          "Underweight",
          "Underweight",
          "Underweight",
          "Underweight",
          "Overweight",
          "Obese",
          "Obese",
          "Obese",
          "Obese",
          "Underweight",
          "Normal Weight",
          "Normal Weight",
          "Normal Weight",
          "Normal Weight",
          "Normal Weight",
          "Normal Weight",
          "Normal Weight",
          "Underweight",
          "Underweight",
          "Underweight",
          "Underweight",
          "Underweight",
          "Underweight",
          "Underweight",
          "Obese",
          "Obese",
          "Obese",
          "Obese",
          "Underweight",
          "Normal Weight",
          "Normal Weight",
          "Normal Weight",
          "Normal Weight",
          "Normal Weight",
          "Normal Weight",
          "Normal Weight",
          "Underweight",
          "Underweight",
          "Underweight",
          "Underweight",
          "Underweight",
          "Underweight",
          "Underweight",
          "Obese",
          "Obese",
          "Obese",
          "Obese",
          "Underweight",
          "Normal Weight",
          "Normal Weight",
          "Normal Weight",
          "Normal Weight",
          "Normal Weight",
          "Normal Weight",
          "Normal Weight",
          "Obese",
          "Obese",
          "Obese",
          "Obese",
          "Obese",
          "Obese",
          "Obese",
          "Obese",
          "Obese",
          "Obese",
          "Obese",
          "Obese",
          "Obese",
          "Obese",
          "Obese",
          "Obese",
          "Obese",
          "Obese",
          "Obese",
          "Obese",
          "Obese",
          "Obese",
          "Obese",
          "Obese",
          "Obese",
          "Obese",
          "Normal Weight",
          "Normal Weight",
          "Normal Weight",
          "Normal Weight",
          "Overweight",
          "Overweight",
          "Normal Weight",
          "Normal Weight",
          "Normal Weight",
          "Normal Weight",
          "Normal Weight",
          "Normal Weight",
          "Normal Weight",
          "Normal Weight",
          "Normal Weight",
          "Normal Weight",
          "Normal Weight",
          "Overweight",
          "Normal Weight",
          "Normal Weight",
          "Normal Weight",
          "Overweight",
          "Normal Weight",
          "Normal Weight",
          "Normal Weight",
          "Normal Weight",
          "Normal Weight",
          "Normal Weight",
          "Normal Weight",
          "Normal Weight",
          "Normal Weight",
          "Normal Weight",
          "Normal Weight",
          "Normal Weight",
          "Normal Weight",
          "Normal Weight",
          "Normal Weight",
          "Normal Weight",
          "Normal Weight",
          "Normal Weight",
          "Normal Weight",
          "Normal Weight",
          "Normal Weight",
          "Normal Weight",
          "Normal Weight",
          "Normal Weight",
          "Normal Weight",
          "Normal Weight",
          "Normal Weight",
          "Normal Weight",
          "Normal Weight",
          "Normal Weight",
          "Normal Weight",
          "Normal Weight",
          "Normal Weight",
          "Normal Weight",
          "Normal Weight",
          "Normal Weight",
          "Normal Weight",
          "Normal Weight",
          "Normal Weight",
          "Normal Weight",
          "Normal Weight",
          "Normal Weight",
          "Normal Weight",
          "Normal Weight",
          "Normal Weight",
          "Normal Weight",
          "Normal Weight",
          "Normal Weight",
          "Normal Weight",
          "Normal Weight",
          "Normal Weight",
          "Normal Weight",
          "Normal Weight",
          "Normal Weight",
          "Normal Weight",
          "Normal Weight",
          "Normal Weight",
          "Normal Weight",
          "Normal Weight",
          "Normal Weight",
          "Normal Weight",
          "Normal Weight",
          "Normal Weight",
          "Normal Weight",
          "Normal Weight",
          "Normal Weight",
          "Normal Weight",
          "Normal Weight",
          "Normal Weight",
          "Normal Weight",
          "Overweight",
          "Overweight",
          "Overweight",
          "Normal Weight",
          "Overweight",
          "Overweight",
          "Overweight",
          "Normal Weight",
          "Overweight",
          "Overweight",
          "Overweight",
          "Overweight",
          "Overweight",
          "Overweight",
          "Obese",
          "Overweight",
          "Overweight",
          "Overweight",
          "Obese",
          "Overweight",
          "Overweight",
          "Overweight",
          "Overweight",
          "Overweight",
          "Overweight",
          "Overweight",
          "Overweight",
          "Overweight",
          "Overweight",
          "Overweight",
          "Overweight",
          "Overweight",
          "Overweight",
          "Overweight"
         ],
         "xaxis": "x",
         "y": [
          "Dance",
          "Dance",
          "Cardio",
          "Strength_training",
          "Dance",
          "Dance",
          "Dance",
          "Cardio+strength_training",
          "Dance",
          "Dance",
          "Dance",
          "Cardio+strength_training",
          "Dance",
          "Strength_training",
          "Cardio+strength_training",
          "Dance",
          "Dance",
          "Cardio",
          "Cardio",
          "Dance",
          "Dance",
          "Cardio+strength_training",
          "Cardio+strength_training",
          "Cardio+strength_training",
          "Cardio+strength_training",
          "Strength_training",
          "Cardio",
          "Cardio",
          "Cardio+strength_training",
          "Cardio+strength_training",
          "Cardio+strength_training",
          "Dance",
          "Dance",
          "Dance",
          "Dance",
          "Dance",
          "Dance",
          "Dance",
          "Dance",
          "Dance",
          "Dance",
          "Dance",
          "Dance",
          "Dance",
          "Dance",
          "Dance",
          "Dance",
          "Dance",
          "Dance",
          "Dance",
          "Dance",
          "Dance",
          "Dance",
          "Dance",
          "Cardio+strength_training",
          "Cardio+strength_training",
          "Cardio+strength_training",
          "Cardio",
          "Strength_training",
          "Cardio+strength_training",
          "Strength_training",
          "Cardio",
          "Cardio",
          "Cardio+strength_training",
          "Cardio+strength_training",
          "Cardio+strength_training",
          "Cardio+strength_training",
          "Strength_training",
          "Cardio+strength_training",
          "Strength_training",
          "Cardio",
          "Cardio+strength_training",
          "Cardio+strength_training",
          "Cardio+strength_training",
          "Cardio",
          "Strength_training",
          "Cardio+strength_training",
          "Strength_training",
          "Cardio",
          "Cardio+strength_training",
          "Cardio+strength_training",
          "Cardio+strength_training",
          "Strength_training",
          "Dance",
          "Dance",
          "Dance",
          "Dance",
          "Dance",
          "Dance",
          "Dance",
          "Dance",
          "Dance",
          "Dance",
          "Dance",
          "Dance",
          "Dance",
          "Dance",
          "Dance",
          "Dance",
          "Dance",
          "Dance",
          "Dance",
          "Dance",
          "Dance",
          "Dance",
          "Dance",
          "Dance",
          "Dance",
          "Dance",
          "Dance",
          "Dance",
          "Dance",
          "Dance",
          "Dance",
          "Dance",
          "Dance",
          "Dance",
          "Dance",
          "Dance",
          "Dance",
          "Dance",
          "Dance",
          "Dance",
          "Dance",
          "Dance",
          "Dance",
          "Dance",
          "Dance",
          "Dance",
          "Dance",
          "Dance",
          "Dance",
          "Dance",
          "Dance",
          "Dance",
          "Dance",
          "Dance",
          "Dance",
          "Dance",
          "Dance",
          "Dance",
          "Dance",
          "Dance",
          "Dance",
          "Dance",
          "Dance",
          "Dance",
          "Dance",
          "Dance",
          "Dance",
          "Dance",
          "Dance",
          "Dance",
          "Dance",
          "Dance",
          "Dance",
          "Dance",
          "Dance",
          "Dance",
          "Dance",
          "Dance",
          "Dance",
          "Dance",
          "Dance",
          "Dance",
          "Dance",
          "Dance",
          "Dance",
          "Dance",
          "Dance",
          "Dance",
          "Dance",
          "Dance",
          "Dance",
          "Dance",
          "Dance",
          "Dance",
          "Dance",
          "Dance",
          "Dance",
          "Dance",
          "Dance",
          "Dance",
          "Dance",
          "Dance",
          "Dance",
          "Dance",
          "Dance",
          "Dance",
          "Dance",
          "Dance",
          "Dance",
          "Dance",
          "Dance",
          "Dance",
          "Dance",
          "Dance",
          "Dance",
          "Dance",
          "Dance",
          "Dance",
          "Dance",
          "Dance",
          "Dance",
          "Dance",
          "Dance",
          "Dance",
          "Dance",
          "Dance",
          "Dance",
          "Dance",
          "Dance",
          "Dance",
          "Dance",
          "Dance",
          "Dance",
          "Dance",
          "Dance",
          "Dance",
          "Dance",
          "Dance",
          "Cardio+strength_training",
          "Cardio+strength_training",
          "Cardio+strength_training",
          "Cardio+strength_training",
          "Cardio",
          "Strength_training",
          "Cardio+strength_training",
          "Cardio+strength_training",
          "Cardio+strength_training",
          "Cardio+strength_training",
          "Cardio+strength_training",
          "Cardio+strength_training",
          "Strength_training",
          "Cardio+strength_training",
          "Cardio",
          "Cardio+strength_training",
          "Cardio+strength_training",
          "Cardio+strength_training",
          "Cardio+strength_training",
          "Cardio+strength_training",
          "Strength_training",
          "Cardio+strength_training",
          "Cardio+strength_training",
          "Cardio+strength_training",
          "Cardio+strength_training",
          "Cardio+strength_training",
          "Cardio+strength_training",
          "Strength_training",
          "Cardio+strength_training",
          "Cardio",
          "Cardio+strength_training",
          "Cardio+strength_training",
          "Cardio+strength_training",
          "Cardio+strength_training",
          "Dance",
          "Dance",
          "Dance",
          "Dance",
          "Dance",
          "Dance",
          "Dance",
          "Dance",
          "Dance",
          "Dance",
          "Dance",
          "Dance",
          "Dance",
          "Dance",
          "Dance",
          "Dance",
          "Dance",
          "Dance",
          "Dance",
          "Dance",
          "Dance",
          "Dance",
          "Dance",
          "Dance",
          "Dance",
          "Dance",
          "Dance",
          "Dance",
          "Dance",
          "Dance",
          "Dance",
          "Dance",
          "Dance",
          "Dance",
          "Dance",
          "Dance",
          "Dance",
          "Dance",
          "Dance",
          "Dance",
          "Dance",
          "Dance",
          "Dance",
          "Dance",
          "Dance",
          "Dance",
          "Dance",
          "Dance",
          "Dance",
          "Dance",
          "Dance",
          "Dance",
          "Dance",
          "Dance",
          "Dance",
          "Dance",
          "Dance",
          "Dance",
          "Dance",
          "Dance",
          "Dance",
          "Dance",
          "Dance",
          "Dance",
          "Dance",
          "Dance",
          "Dance",
          "Dance",
          "Dance",
          "Dance",
          "Dance",
          "Dance",
          "Dance",
          "Dance",
          "Dance",
          "Dance",
          "Dance",
          "Dance",
          "Dance",
          "Dance",
          "Dance",
          "Dance",
          "Dance",
          "Dance",
          "Dance",
          "Dance",
          "Dance",
          "Dance",
          "Dance",
          "Dance",
          "Dance",
          "Dance",
          "Dance",
          "Dance",
          "Dance",
          "Dance",
          "Dance",
          "Dance",
          "Dance",
          "Dance",
          "Dance",
          "Dance",
          "Dance",
          "Dance",
          "Dance",
          "Dance",
          "Dance",
          "Dance",
          "Dance",
          "Dance",
          "Dance",
          "Dance",
          "Dance",
          "Dance",
          "Dance",
          "Dance",
          "Dance",
          "Dance",
          "Dance",
          "Dance",
          "Dance",
          "Dance",
          "Dance",
          "Dance",
          "Dance",
          "Dance",
          "Dance",
          "Dance",
          "Dance",
          "Dance",
          "Dance",
          "Dance",
          "Dance",
          "Dance",
          "Dance",
          "Dance",
          "Cardio+strength_training",
          "Cardio+strength_training",
          "Cardio+strength_training",
          "Cardio+strength_training",
          "Cardio+strength_training",
          "Cardio",
          "Cardio",
          "Cardio",
          "Cardio+strength_training",
          "Cardio+strength_training",
          "Cardio+strength_training",
          "Cardio+strength_training",
          "Cardio+strength_training",
          "Cardio+strength_training",
          "Cardio+strength_training",
          "Strength_training",
          "Cardio+strength_training",
          "Cardio+strength_training",
          "Cardio+strength_training",
          "Cardio+strength_training",
          "Cardio+strength_training",
          "Cardio+strength_training",
          "Cardio+strength_training",
          "Cardio+strength_training",
          "Cardio",
          "Cardio",
          "Cardio",
          "Cardio",
          "Cardio+strength_training",
          "Cardio+strength_training",
          "Cardio+strength_training",
          "Cardio+strength_training",
          "Cardio+strength_training",
          "Cardio+strength_training",
          "Cardio+strength_training",
          "Cardio+strength_training",
          "Cardio+strength_training",
          "Cardio+strength_training",
          "Cardio+strength_training",
          "Cardio",
          "Cardio+strength_training",
          "Cardio+strength_training",
          "Cardio+strength_training",
          "Cardio+strength_training",
          "Cardio+strength_training",
          "Cardio+strength_training",
          "Cardio+strength_training",
          "Cardio",
          "Cardio",
          "Cardio",
          "Cardio",
          "Strength_training",
          "Cardio+strength_training",
          "Cardio+strength_training",
          "Cardio+strength_training",
          "Cardio+strength_training",
          "Cardio+strength_training",
          "Cardio+strength_training",
          "Cardio+strength_training",
          "Cardio+strength_training",
          "Strength_training",
          "Strength_training",
          "Cardio+strength_training",
          "Cardio+strength_training",
          "Cardio+strength_training",
          "Cardio+strength_training",
          "Cardio+strength_training",
          "Cardio+strength_training",
          "Cardio+strength_training",
          "Cardio+strength_training",
          "Cardio",
          "Cardio",
          "Cardio",
          "Cardio",
          "Strength_training",
          "Cardio+strength_training",
          "Cardio+strength_training",
          "Cardio+strength_training",
          "Cardio+strength_training",
          "Cardio+strength_training",
          "Cardio+strength_training",
          "Cardio+strength_training",
          "Strength_training",
          "Strength_training",
          "Strength_training",
          "Strength_training",
          "Strength_training",
          "Strength_training",
          "Strength_training",
          "Strength_training",
          "Cardio+strength_training",
          "Cardio+strength_training",
          "Cardio+strength_training",
          "Cardio+strength_training",
          "Cardio+strength_training",
          "Cardio+strength_training",
          "Cardio+strength_training",
          "Cardio+strength_training",
          "Cardio",
          "Cardio",
          "Cardio",
          "Cardio",
          "Strength_training",
          "Cardio+strength_training",
          "Cardio+strength_training",
          "Cardio+strength_training",
          "Cardio+strength_training",
          "Cardio+strength_training",
          "Cardio+strength_training",
          "Cardio+strength_training",
          "Strength_training",
          "Strength_training",
          "Strength_training",
          "Strength_training",
          "Strength_training",
          "Strength_training",
          "Strength_training",
          "Strength_training",
          "Cardio+strength_training",
          "Cardio+strength_training",
          "Cardio+strength_training",
          "Cardio+strength_training",
          "Cardio+strength_training",
          "Cardio+strength_training",
          "Cardio+strength_training",
          "Cardio+strength_training",
          "Cardio+strength_training",
          "Cardio",
          "Cardio",
          "Cardio",
          "Cardio",
          "Strength_training",
          "Cardio+strength_training",
          "Cardio+strength_training",
          "Cardio+strength_training",
          "Cardio+strength_training",
          "Cardio+strength_training",
          "Cardio+strength_training",
          "Cardio+strength_training",
          "Strength_training",
          "Strength_training",
          "Strength_training",
          "Strength_training",
          "Strength_training",
          "Strength_training",
          "Strength_training",
          "Strength_training",
          "Cardio+strength_training",
          "Cardio",
          "Cardio",
          "Cardio",
          "Cardio",
          "Strength_training",
          "Cardio+strength_training",
          "Cardio+strength_training",
          "Cardio+strength_training",
          "Cardio+strength_training",
          "Cardio+strength_training",
          "Cardio+strength_training",
          "Cardio+strength_training",
          "Strength_training",
          "Strength_training",
          "Dance",
          "Dance",
          "Dance",
          "Dance",
          "Dance",
          "Dance",
          "Dance",
          "Dance",
          "Dance",
          "Dance",
          "Dance",
          "Dance",
          "Dance",
          "Dance",
          "Dance",
          "Dance",
          "Dance",
          "Dance",
          "Dance",
          "Dance",
          "Dance",
          "Dance",
          "Dance",
          "Dance",
          "Dance",
          "Dance",
          "Dance",
          "Dance",
          "Dance",
          "Dance",
          "Dance",
          "Dance",
          "Dance",
          "Dance",
          "Dance",
          "Dance",
          "Dance",
          "Dance",
          "Dance",
          "Dance",
          "Dance",
          "Dance",
          "Dance",
          "Dance",
          "Dance",
          "Dance",
          "Dance",
          "Dance",
          "Dance",
          "Dance",
          "Dance",
          "Dance",
          "Dance",
          "Dance",
          "Dance",
          "Dance",
          "Dance",
          "Dance",
          "Dance",
          "Dance",
          "Dance",
          "Dance",
          "Dance",
          "Dance",
          "Dance",
          "Dance",
          "Dance",
          "Dance",
          "Dance",
          "Dance",
          "Dance",
          "Dance",
          "Dance",
          "Dance",
          "Dance",
          "Dance",
          "Dance",
          "Dance",
          "Dance",
          "Dance",
          "Dance",
          "Dance",
          "Dance",
          "Dance",
          "Dance",
          "Dance",
          "Dance",
          "Dance",
          "Dance",
          "Dance",
          "Dance",
          "Dance",
          "Dance",
          "Dance",
          "Dance",
          "Dance",
          "Dance",
          "Dance",
          "Dance",
          "Dance",
          "Dance",
          "Dance",
          "Dance",
          "Dance",
          "Dance",
          "Dance",
          "Dance",
          "Dance",
          "Dance",
          "Dance",
          "Dance",
          "Dance",
          "Dance",
          "Dance",
          "Dance",
          "Dance",
          "Dance",
          "Dance",
          "Dance",
          "Dance",
          "Dance",
          "Dance",
          "Dance",
          "Dance",
          "Dance",
          "Dance",
          "Dance",
          "Dance",
          "Dance",
          "Dance",
          "Dance",
          "Dance",
          "Dance",
          "Dance",
          "Dance",
          "Dance",
          "Dance",
          "Dance",
          "Dance",
          "Dance",
          "Dance",
          "Dance",
          "Dance",
          "Dance",
          "Dance",
          "Cardio+strength_training",
          "Cardio+strength_training",
          "Cardio+strength_training",
          "Cardio+strength_training",
          "Cardio+strength_training",
          "Cardio+strength_training",
          "Cardio+strength_training",
          "Cardio+strength_training",
          "Cardio+strength_training",
          "Cardio+strength_training",
          "Cardio+strength_training",
          "Cardio+strength_training",
          "Cardio+strength_training",
          "Cardio+strength_training",
          "Cardio+strength_training",
          "Cardio+strength_training",
          "Cardio+strength_training",
          "Cardio+strength_training",
          "Cardio+strength_training",
          "Cardio+strength_training",
          "Cardio+strength_training",
          "Cardio+strength_training",
          "Dance",
          "Dance",
          "Dance",
          "Dance",
          "Dance",
          "Dance",
          "Dance",
          "Dance",
          "Dance",
          "Dance",
          "Dance",
          "Dance",
          "Dance",
          "Dance",
          "Dance",
          "Dance",
          "Dance",
          "Dance",
          "Cardio+strength_training",
          "Cardio+strength_training",
          "Cardio+strength_training"
         ],
         "yaxis": "y"
        }
       ],
       "layout": {
        "barmode": "relative",
        "legend": {
         "tracegroupgap": 0
        },
        "margin": {
         "t": 60
        },
        "template": {
         "data": {
          "bar": [
           {
            "error_x": {
             "color": "#2a3f5f"
            },
            "error_y": {
             "color": "#2a3f5f"
            },
            "marker": {
             "line": {
              "color": "#E5ECF6",
              "width": 0.5
             },
             "pattern": {
              "fillmode": "overlay",
              "size": 10,
              "solidity": 0.2
             }
            },
            "type": "bar"
           }
          ],
          "barpolar": [
           {
            "marker": {
             "line": {
              "color": "#E5ECF6",
              "width": 0.5
             },
             "pattern": {
              "fillmode": "overlay",
              "size": 10,
              "solidity": 0.2
             }
            },
            "type": "barpolar"
           }
          ],
          "carpet": [
           {
            "aaxis": {
             "endlinecolor": "#2a3f5f",
             "gridcolor": "white",
             "linecolor": "white",
             "minorgridcolor": "white",
             "startlinecolor": "#2a3f5f"
            },
            "baxis": {
             "endlinecolor": "#2a3f5f",
             "gridcolor": "white",
             "linecolor": "white",
             "minorgridcolor": "white",
             "startlinecolor": "#2a3f5f"
            },
            "type": "carpet"
           }
          ],
          "choropleth": [
           {
            "colorbar": {
             "outlinewidth": 0,
             "ticks": ""
            },
            "type": "choropleth"
           }
          ],
          "contour": [
           {
            "colorbar": {
             "outlinewidth": 0,
             "ticks": ""
            },
            "colorscale": [
             [
              0,
              "#0d0887"
             ],
             [
              0.1111111111111111,
              "#46039f"
             ],
             [
              0.2222222222222222,
              "#7201a8"
             ],
             [
              0.3333333333333333,
              "#9c179e"
             ],
             [
              0.4444444444444444,
              "#bd3786"
             ],
             [
              0.5555555555555556,
              "#d8576b"
             ],
             [
              0.6666666666666666,
              "#ed7953"
             ],
             [
              0.7777777777777778,
              "#fb9f3a"
             ],
             [
              0.8888888888888888,
              "#fdca26"
             ],
             [
              1,
              "#f0f921"
             ]
            ],
            "type": "contour"
           }
          ],
          "contourcarpet": [
           {
            "colorbar": {
             "outlinewidth": 0,
             "ticks": ""
            },
            "type": "contourcarpet"
           }
          ],
          "heatmap": [
           {
            "colorbar": {
             "outlinewidth": 0,
             "ticks": ""
            },
            "colorscale": [
             [
              0,
              "#0d0887"
             ],
             [
              0.1111111111111111,
              "#46039f"
             ],
             [
              0.2222222222222222,
              "#7201a8"
             ],
             [
              0.3333333333333333,
              "#9c179e"
             ],
             [
              0.4444444444444444,
              "#bd3786"
             ],
             [
              0.5555555555555556,
              "#d8576b"
             ],
             [
              0.6666666666666666,
              "#ed7953"
             ],
             [
              0.7777777777777778,
              "#fb9f3a"
             ],
             [
              0.8888888888888888,
              "#fdca26"
             ],
             [
              1,
              "#f0f921"
             ]
            ],
            "type": "heatmap"
           }
          ],
          "heatmapgl": [
           {
            "colorbar": {
             "outlinewidth": 0,
             "ticks": ""
            },
            "colorscale": [
             [
              0,
              "#0d0887"
             ],
             [
              0.1111111111111111,
              "#46039f"
             ],
             [
              0.2222222222222222,
              "#7201a8"
             ],
             [
              0.3333333333333333,
              "#9c179e"
             ],
             [
              0.4444444444444444,
              "#bd3786"
             ],
             [
              0.5555555555555556,
              "#d8576b"
             ],
             [
              0.6666666666666666,
              "#ed7953"
             ],
             [
              0.7777777777777778,
              "#fb9f3a"
             ],
             [
              0.8888888888888888,
              "#fdca26"
             ],
             [
              1,
              "#f0f921"
             ]
            ],
            "type": "heatmapgl"
           }
          ],
          "histogram": [
           {
            "marker": {
             "pattern": {
              "fillmode": "overlay",
              "size": 10,
              "solidity": 0.2
             }
            },
            "type": "histogram"
           }
          ],
          "histogram2d": [
           {
            "colorbar": {
             "outlinewidth": 0,
             "ticks": ""
            },
            "colorscale": [
             [
              0,
              "#0d0887"
             ],
             [
              0.1111111111111111,
              "#46039f"
             ],
             [
              0.2222222222222222,
              "#7201a8"
             ],
             [
              0.3333333333333333,
              "#9c179e"
             ],
             [
              0.4444444444444444,
              "#bd3786"
             ],
             [
              0.5555555555555556,
              "#d8576b"
             ],
             [
              0.6666666666666666,
              "#ed7953"
             ],
             [
              0.7777777777777778,
              "#fb9f3a"
             ],
             [
              0.8888888888888888,
              "#fdca26"
             ],
             [
              1,
              "#f0f921"
             ]
            ],
            "type": "histogram2d"
           }
          ],
          "histogram2dcontour": [
           {
            "colorbar": {
             "outlinewidth": 0,
             "ticks": ""
            },
            "colorscale": [
             [
              0,
              "#0d0887"
             ],
             [
              0.1111111111111111,
              "#46039f"
             ],
             [
              0.2222222222222222,
              "#7201a8"
             ],
             [
              0.3333333333333333,
              "#9c179e"
             ],
             [
              0.4444444444444444,
              "#bd3786"
             ],
             [
              0.5555555555555556,
              "#d8576b"
             ],
             [
              0.6666666666666666,
              "#ed7953"
             ],
             [
              0.7777777777777778,
              "#fb9f3a"
             ],
             [
              0.8888888888888888,
              "#fdca26"
             ],
             [
              1,
              "#f0f921"
             ]
            ],
            "type": "histogram2dcontour"
           }
          ],
          "mesh3d": [
           {
            "colorbar": {
             "outlinewidth": 0,
             "ticks": ""
            },
            "type": "mesh3d"
           }
          ],
          "parcoords": [
           {
            "line": {
             "colorbar": {
              "outlinewidth": 0,
              "ticks": ""
             }
            },
            "type": "parcoords"
           }
          ],
          "pie": [
           {
            "automargin": true,
            "type": "pie"
           }
          ],
          "scatter": [
           {
            "fillpattern": {
             "fillmode": "overlay",
             "size": 10,
             "solidity": 0.2
            },
            "type": "scatter"
           }
          ],
          "scatter3d": [
           {
            "line": {
             "colorbar": {
              "outlinewidth": 0,
              "ticks": ""
             }
            },
            "marker": {
             "colorbar": {
              "outlinewidth": 0,
              "ticks": ""
             }
            },
            "type": "scatter3d"
           }
          ],
          "scattercarpet": [
           {
            "marker": {
             "colorbar": {
              "outlinewidth": 0,
              "ticks": ""
             }
            },
            "type": "scattercarpet"
           }
          ],
          "scattergeo": [
           {
            "marker": {
             "colorbar": {
              "outlinewidth": 0,
              "ticks": ""
             }
            },
            "type": "scattergeo"
           }
          ],
          "scattergl": [
           {
            "marker": {
             "colorbar": {
              "outlinewidth": 0,
              "ticks": ""
             }
            },
            "type": "scattergl"
           }
          ],
          "scattermapbox": [
           {
            "marker": {
             "colorbar": {
              "outlinewidth": 0,
              "ticks": ""
             }
            },
            "type": "scattermapbox"
           }
          ],
          "scatterpolar": [
           {
            "marker": {
             "colorbar": {
              "outlinewidth": 0,
              "ticks": ""
             }
            },
            "type": "scatterpolar"
           }
          ],
          "scatterpolargl": [
           {
            "marker": {
             "colorbar": {
              "outlinewidth": 0,
              "ticks": ""
             }
            },
            "type": "scatterpolargl"
           }
          ],
          "scatterternary": [
           {
            "marker": {
             "colorbar": {
              "outlinewidth": 0,
              "ticks": ""
             }
            },
            "type": "scatterternary"
           }
          ],
          "surface": [
           {
            "colorbar": {
             "outlinewidth": 0,
             "ticks": ""
            },
            "colorscale": [
             [
              0,
              "#0d0887"
             ],
             [
              0.1111111111111111,
              "#46039f"
             ],
             [
              0.2222222222222222,
              "#7201a8"
             ],
             [
              0.3333333333333333,
              "#9c179e"
             ],
             [
              0.4444444444444444,
              "#bd3786"
             ],
             [
              0.5555555555555556,
              "#d8576b"
             ],
             [
              0.6666666666666666,
              "#ed7953"
             ],
             [
              0.7777777777777778,
              "#fb9f3a"
             ],
             [
              0.8888888888888888,
              "#fdca26"
             ],
             [
              1,
              "#f0f921"
             ]
            ],
            "type": "surface"
           }
          ],
          "table": [
           {
            "cells": {
             "fill": {
              "color": "#EBF0F8"
             },
             "line": {
              "color": "white"
             }
            },
            "header": {
             "fill": {
              "color": "#C8D4E3"
             },
             "line": {
              "color": "white"
             }
            },
            "type": "table"
           }
          ]
         },
         "layout": {
          "annotationdefaults": {
           "arrowcolor": "#2a3f5f",
           "arrowhead": 0,
           "arrowwidth": 1
          },
          "autotypenumbers": "strict",
          "coloraxis": {
           "colorbar": {
            "outlinewidth": 0,
            "ticks": ""
           }
          },
          "colorscale": {
           "diverging": [
            [
             0,
             "#8e0152"
            ],
            [
             0.1,
             "#c51b7d"
            ],
            [
             0.2,
             "#de77ae"
            ],
            [
             0.3,
             "#f1b6da"
            ],
            [
             0.4,
             "#fde0ef"
            ],
            [
             0.5,
             "#f7f7f7"
            ],
            [
             0.6,
             "#e6f5d0"
            ],
            [
             0.7,
             "#b8e186"
            ],
            [
             0.8,
             "#7fbc41"
            ],
            [
             0.9,
             "#4d9221"
            ],
            [
             1,
             "#276419"
            ]
           ],
           "sequential": [
            [
             0,
             "#0d0887"
            ],
            [
             0.1111111111111111,
             "#46039f"
            ],
            [
             0.2222222222222222,
             "#7201a8"
            ],
            [
             0.3333333333333333,
             "#9c179e"
            ],
            [
             0.4444444444444444,
             "#bd3786"
            ],
            [
             0.5555555555555556,
             "#d8576b"
            ],
            [
             0.6666666666666666,
             "#ed7953"
            ],
            [
             0.7777777777777778,
             "#fb9f3a"
            ],
            [
             0.8888888888888888,
             "#fdca26"
            ],
            [
             1,
             "#f0f921"
            ]
           ],
           "sequentialminus": [
            [
             0,
             "#0d0887"
            ],
            [
             0.1111111111111111,
             "#46039f"
            ],
            [
             0.2222222222222222,
             "#7201a8"
            ],
            [
             0.3333333333333333,
             "#9c179e"
            ],
            [
             0.4444444444444444,
             "#bd3786"
            ],
            [
             0.5555555555555556,
             "#d8576b"
            ],
            [
             0.6666666666666666,
             "#ed7953"
            ],
            [
             0.7777777777777778,
             "#fb9f3a"
            ],
            [
             0.8888888888888888,
             "#fdca26"
            ],
            [
             1,
             "#f0f921"
            ]
           ]
          },
          "colorway": [
           "#636efa",
           "#EF553B",
           "#00cc96",
           "#ab63fa",
           "#FFA15A",
           "#19d3f3",
           "#FF6692",
           "#B6E880",
           "#FF97FF",
           "#FECB52"
          ],
          "font": {
           "color": "#2a3f5f"
          },
          "geo": {
           "bgcolor": "white",
           "lakecolor": "white",
           "landcolor": "#E5ECF6",
           "showlakes": true,
           "showland": true,
           "subunitcolor": "white"
          },
          "hoverlabel": {
           "align": "left"
          },
          "hovermode": "closest",
          "mapbox": {
           "style": "light"
          },
          "paper_bgcolor": "white",
          "plot_bgcolor": "#E5ECF6",
          "polar": {
           "angularaxis": {
            "gridcolor": "white",
            "linecolor": "white",
            "ticks": ""
           },
           "bgcolor": "#E5ECF6",
           "radialaxis": {
            "gridcolor": "white",
            "linecolor": "white",
            "ticks": ""
           }
          },
          "scene": {
           "xaxis": {
            "backgroundcolor": "#E5ECF6",
            "gridcolor": "white",
            "gridwidth": 2,
            "linecolor": "white",
            "showbackground": true,
            "ticks": "",
            "zerolinecolor": "white"
           },
           "yaxis": {
            "backgroundcolor": "#E5ECF6",
            "gridcolor": "white",
            "gridwidth": 2,
            "linecolor": "white",
            "showbackground": true,
            "ticks": "",
            "zerolinecolor": "white"
           },
           "zaxis": {
            "backgroundcolor": "#E5ECF6",
            "gridcolor": "white",
            "gridwidth": 2,
            "linecolor": "white",
            "showbackground": true,
            "ticks": "",
            "zerolinecolor": "white"
           }
          },
          "shapedefaults": {
           "line": {
            "color": "#2a3f5f"
           }
          },
          "ternary": {
           "aaxis": {
            "gridcolor": "white",
            "linecolor": "white",
            "ticks": ""
           },
           "baxis": {
            "gridcolor": "white",
            "linecolor": "white",
            "ticks": ""
           },
           "bgcolor": "#E5ECF6",
           "caxis": {
            "gridcolor": "white",
            "linecolor": "white",
            "ticks": ""
           }
          },
          "title": {
           "x": 0.05
          },
          "xaxis": {
           "automargin": true,
           "gridcolor": "white",
           "linecolor": "white",
           "ticks": "",
           "title": {
            "standoff": 15
           },
           "zerolinecolor": "white",
           "zerolinewidth": 2
          },
          "yaxis": {
           "automargin": true,
           "gridcolor": "white",
           "linecolor": "white",
           "ticks": "",
           "title": {
            "standoff": 15
           },
           "zerolinecolor": "white",
           "zerolinewidth": 2
          }
         }
        },
        "xaxis": {
         "anchor": "y",
         "domain": [
          0,
          1
         ],
         "title": {
          "text": "BmiClass"
         }
        },
        "yaxis": {
         "anchor": "x",
         "domain": [
          0,
          1
         ],
         "title": {
          "text": "target"
         }
        }
       }
      }
     },
     "metadata": {},
     "output_type": "display_data"
    }
   ],
   "source": [
    "import plotly.express as px\n",
    "\n",
    "fig = px.bar(data, x=\"BmiClass\", y=\"target\")\n",
    "             \n",
    "fig.show()"
   ]
  },
  {
   "cell_type": "code",
   "execution_count": 5,
   "metadata": {},
   "outputs": [
    {
     "data": {
      "application/vnd.plotly.v1+json": {
       "config": {
        "plotlyServerURL": "https://plot.ly"
       },
       "data": [
        {
         "alignmentgroup": "True",
         "hovertemplate": "dance=%{x}<br>BmiClass=%{y}<extra></extra>",
         "legendgroup": "",
         "marker": {
          "color": "#636efa",
          "pattern": {
           "shape": ""
          }
         },
         "name": "",
         "offsetgroup": "",
         "orientation": "v",
         "showlegend": false,
         "textposition": "auto",
         "type": "bar",
         "x": [
          "yes",
          "yes",
          "no",
          "no",
          "yes",
          "yes",
          "yes",
          "no",
          "yes",
          "yes",
          "yes",
          "no",
          "yes",
          "no",
          "no",
          "yes",
          "yes",
          "no",
          "no",
          "yes",
          "yes",
          "no",
          "no",
          "no",
          "no",
          "no",
          "no",
          "no",
          "no",
          "no",
          "no",
          "yes",
          "yes",
          "yes",
          "yes",
          "yes",
          "yes",
          "yes",
          "yes",
          "yes",
          "yes",
          "yes",
          "yes",
          "yes",
          "yes",
          "yes",
          "yes",
          "yes",
          "yes",
          "yes",
          "yes",
          "yes",
          "yes",
          "yes",
          "no",
          "no",
          "no",
          "no",
          "no",
          "no",
          "no",
          "no",
          "no",
          "no",
          "no",
          "no",
          "no",
          "no",
          "no",
          "no",
          "no",
          "no",
          "no",
          "no",
          "no",
          "no",
          "no",
          "no",
          "no",
          "no",
          "no",
          "no",
          "no",
          "yes",
          "yes",
          "yes",
          "yes",
          "yes",
          "yes",
          "yes",
          "yes",
          "yes",
          "yes",
          "yes",
          "yes",
          "yes",
          "yes",
          "yes",
          "yes",
          "yes",
          "yes",
          "yes",
          "yes",
          "yes",
          "yes",
          "yes",
          "yes",
          "yes",
          "yes",
          "yes",
          "yes",
          "yes",
          "yes",
          "yes",
          "yes",
          "yes",
          "yes",
          "yes",
          "yes",
          "yes",
          "yes",
          "yes",
          "yes",
          "yes",
          "yes",
          "yes",
          "yes",
          "yes",
          "yes",
          "yes",
          "yes",
          "yes",
          "yes",
          "yes",
          "yes",
          "yes",
          "yes",
          "yes",
          "yes",
          "yes",
          "yes",
          "yes",
          "yes",
          "yes",
          "yes",
          "yes",
          "yes",
          "yes",
          "yes",
          "yes",
          "yes",
          "yes",
          "yes",
          "yes",
          "yes",
          "yes",
          "yes",
          "yes",
          "yes",
          "yes",
          "yes",
          "yes",
          "yes",
          "yes",
          "yes",
          "yes",
          "yes",
          "yes",
          "yes",
          "yes",
          "yes",
          "yes",
          "yes",
          "yes",
          "yes",
          "yes",
          "yes",
          "yes",
          "yes",
          "yes",
          "yes",
          "yes",
          "yes",
          "yes",
          "yes",
          "yes",
          "yes",
          "yes",
          "yes",
          "yes",
          "yes",
          "yes",
          "yes",
          "yes",
          "yes",
          "yes",
          "yes",
          "yes",
          "yes",
          "yes",
          "yes",
          "yes",
          "yes",
          "yes",
          "yes",
          "yes",
          "yes",
          "yes",
          "yes",
          "yes",
          "yes",
          "yes",
          "yes",
          "yes",
          "yes",
          "yes",
          "yes",
          "yes",
          "yes",
          "yes",
          "yes",
          "no",
          "no",
          "no",
          "no",
          "no",
          "no",
          "no",
          "no",
          "no",
          "no",
          "no",
          "no",
          "no",
          "no",
          "no",
          "no",
          "no",
          "no",
          "no",
          "no",
          "no",
          "no",
          "no",
          "no",
          "no",
          "no",
          "no",
          "no",
          "no",
          "no",
          "no",
          "no",
          "no",
          "no",
          "yes",
          "yes",
          "yes",
          "yes",
          "yes",
          "yes",
          "yes",
          "yes",
          "yes",
          "yes",
          "yes",
          "yes",
          "yes",
          "yes",
          "yes",
          "yes",
          "yes",
          "yes",
          "yes",
          "yes",
          "yes",
          "yes",
          "yes",
          "yes",
          "yes",
          "yes",
          "yes",
          "yes",
          "yes",
          "yes",
          "yes",
          "yes",
          "yes",
          "yes",
          "yes",
          "yes",
          "yes",
          "yes",
          "yes",
          "yes",
          "yes",
          "yes",
          "yes",
          "yes",
          "yes",
          "yes",
          "yes",
          "yes",
          "yes",
          "yes",
          "yes",
          "yes",
          "yes",
          "yes",
          "yes",
          "yes",
          "yes",
          "yes",
          "yes",
          "yes",
          "yes",
          "yes",
          "yes",
          "yes",
          "yes",
          "yes",
          "yes",
          "yes",
          "yes",
          "yes",
          "yes",
          "yes",
          "yes",
          "yes",
          "yes",
          "yes",
          "yes",
          "yes",
          "yes",
          "yes",
          "yes",
          "yes",
          "yes",
          "yes",
          "yes",
          "yes",
          "yes",
          "yes",
          "yes",
          "yes",
          "yes",
          "yes",
          "yes",
          "yes",
          "yes",
          "yes",
          "yes",
          "yes",
          "yes",
          "yes",
          "yes",
          "yes",
          "yes",
          "yes",
          "yes",
          "yes",
          "yes",
          "yes",
          "yes",
          "yes",
          "yes",
          "yes",
          "yes",
          "yes",
          "yes",
          "yes",
          "yes",
          "yes",
          "yes",
          "yes",
          "yes",
          "yes",
          "yes",
          "yes",
          "yes",
          "yes",
          "yes",
          "yes",
          "yes",
          "yes",
          "yes",
          "yes",
          "yes",
          "yes",
          "yes",
          "yes",
          "no",
          "no",
          "no",
          "no",
          "no",
          "no",
          "no",
          "no",
          "no",
          "no",
          "no",
          "no",
          "no",
          "no",
          "no",
          "no",
          "no",
          "no",
          "no",
          "no",
          "no",
          "no",
          "no",
          "no",
          "no",
          "no",
          "no",
          "no",
          "no",
          "no",
          "no",
          "no",
          "no",
          "no",
          "no",
          "no",
          "no",
          "no",
          "no",
          "no",
          "no",
          "no",
          "no",
          "no",
          "no",
          "no",
          "no",
          "no",
          "no",
          "no",
          "no",
          "no",
          "no",
          "no",
          "no",
          "no",
          "no",
          "no",
          "no",
          "no",
          "no",
          "no",
          "no",
          "no",
          "no",
          "no",
          "no",
          "no",
          "no",
          "no",
          "no",
          "no",
          "no",
          "no",
          "no",
          "no",
          "no",
          "no",
          "no",
          "no",
          "no",
          "no",
          "no",
          "no",
          "no",
          "no",
          "no",
          "no",
          "no",
          "no",
          "no",
          "no",
          "no",
          "no",
          "no",
          "no",
          "no",
          "no",
          "no",
          "no",
          "no",
          "no",
          "no",
          "no",
          "no",
          "no",
          "no",
          "no",
          "no",
          "no",
          "no",
          "no",
          "no",
          "no",
          "no",
          "no",
          "no",
          "no",
          "no",
          "no",
          "no",
          "no",
          "no",
          "no",
          "no",
          "no",
          "no",
          "no",
          "no",
          "no",
          "no",
          "no",
          "no",
          "no",
          "no",
          "no",
          "no",
          "no",
          "no",
          "no",
          "no",
          "no",
          "no",
          "no",
          "no",
          "no",
          "no",
          "no",
          "no",
          "no",
          "no",
          "no",
          "no",
          "no",
          "no",
          "no",
          "no",
          "no",
          "no",
          "no",
          "no",
          "no",
          "yes",
          "yes",
          "yes",
          "yes",
          "yes",
          "yes",
          "yes",
          "yes",
          "yes",
          "yes",
          "yes",
          "yes",
          "yes",
          "yes",
          "yes",
          "yes",
          "yes",
          "yes",
          "yes",
          "yes",
          "yes",
          "yes",
          "yes",
          "yes",
          "yes",
          "yes",
          "yes",
          "yes",
          "yes",
          "yes",
          "yes",
          "yes",
          "yes",
          "yes",
          "yes",
          "yes",
          "yes",
          "yes",
          "yes",
          "yes",
          "yes",
          "yes",
          "yes",
          "yes",
          "yes",
          "yes",
          "yes",
          "yes",
          "yes",
          "yes",
          "yes",
          "yes",
          "yes",
          "yes",
          "yes",
          "yes",
          "yes",
          "yes",
          "yes",
          "yes",
          "yes",
          "yes",
          "yes",
          "yes",
          "yes",
          "yes",
          "yes",
          "yes",
          "yes",
          "yes",
          "yes",
          "yes",
          "yes",
          "yes",
          "yes",
          "yes",
          "yes",
          "yes",
          "yes",
          "yes",
          "yes",
          "yes",
          "yes",
          "yes",
          "yes",
          "yes",
          "yes",
          "yes",
          "yes",
          "yes",
          "yes",
          "yes",
          "yes",
          "yes",
          "yes",
          "yes",
          "yes",
          "yes",
          "yes",
          "yes",
          "yes",
          "yes",
          "yes",
          "yes",
          "yes",
          "yes",
          "yes",
          "yes",
          "yes",
          "yes",
          "yes",
          "yes",
          "yes",
          "yes",
          "yes",
          "yes",
          "yes",
          "yes",
          "yes",
          "yes",
          "yes",
          "yes",
          "yes",
          "yes",
          "yes",
          "yes",
          "yes",
          "yes",
          "yes",
          "yes",
          "yes",
          "yes",
          "yes",
          "yes",
          "yes",
          "yes",
          "yes",
          "yes",
          "yes",
          "yes",
          "yes",
          "yes",
          "yes",
          "yes",
          "yes",
          "no",
          "no",
          "no",
          "no",
          "no",
          "no",
          "no",
          "no",
          "no",
          "no",
          "no",
          "no",
          "no",
          "no",
          "no",
          "no",
          "no",
          "no",
          "no",
          "no",
          "no",
          "no",
          "yes",
          "yes",
          "yes",
          "yes",
          "yes",
          "yes",
          "yes",
          "yes",
          "yes",
          "yes",
          "yes",
          "yes",
          "yes",
          "yes",
          "yes",
          "yes",
          "yes",
          "yes",
          "no",
          "no",
          "no"
         ],
         "xaxis": "x",
         "y": [
          "Obese",
          "Overweight",
          "Obese",
          "Underweight",
          "Obese",
          "Overweight",
          "Overweight",
          "Overweight",
          "Underweight",
          "Obese",
          "Overweight",
          "Overweight",
          "Overweight",
          "Underweight",
          "Overweight",
          "Overweight",
          "Overweight",
          "Obese",
          "Obese",
          "Underweight",
          "Obese",
          "Overweight",
          "Overweight",
          "Overweight",
          "Overweight",
          "Underweight",
          "Obese",
          "Obese",
          "Overweight",
          "Overweight",
          "Overweight",
          "Obese",
          "Obese",
          "Underweight",
          "Overweight",
          "Overweight",
          "Obese",
          "Underweight",
          "Obese",
          "Overweight",
          "Overweight",
          "Underweight",
          "Obese",
          "Overweight",
          "Overweight",
          "Overweight",
          "Underweight",
          "Obese",
          "Overweight",
          "Overweight",
          "Overweight",
          "Underweight",
          "Overweight",
          "Obese",
          "Overweight",
          "Overweight",
          "Overweight",
          "Obese",
          "Underweight",
          "Overweight",
          "Underweight",
          "Obese",
          "Obese",
          "Overweight",
          "Overweight",
          "Overweight",
          "Overweight",
          "Underweight",
          "Overweight",
          "Underweight",
          "Obese",
          "Overweight",
          "Normal Weight",
          "Overweight",
          "Obese",
          "Underweight",
          "Overweight",
          "Underweight",
          "Obese",
          "Overweight",
          "Normal Weight",
          "Overweight",
          "Underweight",
          "Overweight",
          "Underweight",
          "Obese",
          "Obese",
          "Overweight",
          "Normal Weight",
          "Overweight",
          "Normal Weight",
          "Overweight",
          "Underweight",
          "Obese",
          "Overweight",
          "Normal Weight",
          "Overweight",
          "Obese",
          "Normal Weight",
          "Overweight",
          "Underweight",
          "Overweight",
          "Obese",
          "Overweight",
          "Normal Weight",
          "Overweight",
          "Normal Weight",
          "Overweight",
          "Underweight",
          "Overweight",
          "Obese",
          "Overweight",
          "Normal Weight",
          "Overweight",
          "Normal Weight",
          "Overweight",
          "Underweight",
          "Obese",
          "Overweight",
          "Normal Weight",
          "Overweight",
          "Obese",
          "Normal Weight",
          "Normal Weight",
          "Underweight",
          "Overweight",
          "Obese",
          "Overweight",
          "Normal Weight",
          "Overweight",
          "Normal Weight",
          "Overweight",
          "Underweight",
          "Obese",
          "Overweight",
          "Normal Weight",
          "Overweight",
          "Normal Weight",
          "Obese",
          "Normal Weight",
          "Overweight",
          "Underweight",
          "Obese",
          "Overweight",
          "Normal Weight",
          "Overweight",
          "Normal Weight",
          "Normal Weight",
          "Overweight",
          "Underweight",
          "Overweight",
          "Obese",
          "Overweight",
          "Normal Weight",
          "Overweight",
          "Normal Weight",
          "Overweight",
          "Normal Weight",
          "Overweight",
          "Underweight",
          "Overweight",
          "Obese",
          "Overweight",
          "Normal Weight",
          "Overweight",
          "Normal Weight",
          "Overweight",
          "Underweight",
          "Overweight",
          "Underweight",
          "Obese",
          "Overweight",
          "Normal Weight",
          "Overweight",
          "Normal Weight",
          "Overweight",
          "Underweight",
          "Normal Weight",
          "Normal Weight",
          "Underweight",
          "Obese",
          "Overweight",
          "Normal Weight",
          "Overweight",
          "Normal Weight",
          "Overweight",
          "Overweight",
          "Underweight",
          "Normal Weight",
          "Normal Weight",
          "Normal Weight",
          "Underweight",
          "Overweight",
          "Obese",
          "Overweight",
          "Normal Weight",
          "Overweight",
          "Normal Weight",
          "Overweight",
          "Underweight",
          "Normal Weight",
          "Normal Weight",
          "Normal Weight",
          "Normal Weight",
          "Normal Weight",
          "Underweight",
          "Overweight",
          "Obese",
          "Overweight",
          "Normal Weight",
          "Overweight",
          "Normal Weight",
          "Overweight",
          "Underweight",
          "Normal Weight",
          "Normal Weight",
          "Normal Weight",
          "Normal Weight",
          "Underweight",
          "Overweight",
          "Obese",
          "Overweight",
          "Normal Weight",
          "Overweight",
          "Normal Weight",
          "Obese",
          "Underweight",
          "Normal Weight",
          "Normal Weight",
          "Normal Weight",
          "Normal Weight",
          "Normal Weight",
          "Normal Weight",
          "Underweight",
          "Overweight",
          "Obese",
          "Overweight",
          "Normal Weight",
          "Overweight",
          "Normal Weight",
          "Overweight",
          "Underweight",
          "Normal Weight",
          "Normal Weight",
          "Normal Weight",
          "Normal Weight",
          "Normal Weight",
          "Overweight",
          "Underweight",
          "Overweight",
          "Obese",
          "Overweight",
          "Normal Weight",
          "Overweight",
          "Normal Weight",
          "Overweight",
          "Obese",
          "Obese",
          "Obese",
          "Obese",
          "Normal Weight",
          "Normal Weight",
          "Normal Weight",
          "Normal Weight",
          "Normal Weight",
          "Overweight",
          "Overweight",
          "Normal Weight",
          "Underweight",
          "Overweight",
          "Obese",
          "Normal Weight",
          "Normal Weight",
          "Normal Weight",
          "Normal Weight",
          "Normal Weight",
          "Obese",
          "Obese",
          "Obese",
          "Normal Weight",
          "Normal Weight",
          "Normal Weight",
          "Normal Weight",
          "Normal Weight",
          "Overweight",
          "Overweight",
          "Normal Weight",
          "Underweight",
          "Overweight",
          "Obese",
          "Normal Weight",
          "Normal Weight",
          "Normal Weight",
          "Normal Weight",
          "Normal Weight",
          "Normal Weight",
          "Obese",
          "Obese",
          "Obese",
          "Normal Weight",
          "Normal Weight",
          "Normal Weight",
          "Normal Weight",
          "Normal Weight",
          "Normal Weight",
          "Overweight",
          "Overweight",
          "Normal Weight",
          "Underweight",
          "Overweight",
          "Obese",
          "Normal Weight",
          "Normal Weight",
          "Normal Weight",
          "Normal Weight",
          "Normal Weight",
          "Obese",
          "Obese",
          "Obese",
          "Normal Weight",
          "Normal Weight",
          "Normal Weight",
          "Normal Weight",
          "Normal Weight",
          "Overweight",
          "Overweight",
          "Normal Weight",
          "Underweight",
          "Overweight",
          "Obese",
          "Normal Weight",
          "Normal Weight",
          "Normal Weight",
          "Normal Weight",
          "Normal Weight",
          "Obese",
          "Obese",
          "Obese",
          "Normal Weight",
          "Normal Weight",
          "Normal Weight",
          "Normal Weight",
          "Normal Weight",
          "Overweight",
          "Overweight",
          "Normal Weight",
          "Underweight",
          "Overweight",
          "Obese",
          "Normal Weight",
          "Normal Weight",
          "Normal Weight",
          "Normal Weight",
          "Normal Weight",
          "Obese",
          "Obese",
          "Obese",
          "Normal Weight",
          "Normal Weight",
          "Normal Weight",
          "Normal Weight",
          "Normal Weight",
          "Normal Weight",
          "Normal Weight",
          "Normal Weight",
          "Overweight",
          "Overweight",
          "Normal Weight",
          "Underweight",
          "Overweight",
          "Obese",
          "Normal Weight",
          "Normal Weight",
          "Normal Weight",
          "Normal Weight",
          "Normal Weight",
          "Obese",
          "Obese",
          "Obese",
          "Normal Weight",
          "Normal Weight",
          "Normal Weight",
          "Normal Weight",
          "Normal Weight",
          "Normal Weight",
          "Normal Weight",
          "Normal Weight",
          "Normal Weight",
          "Underweight",
          "Overweight",
          "Obese",
          "Normal Weight",
          "Normal Weight",
          "Normal Weight",
          "Normal Weight",
          "Normal Weight",
          "Obese",
          "Obese",
          "Obese",
          "Normal Weight",
          "Normal Weight",
          "Normal Weight",
          "Normal Weight",
          "Normal Weight",
          "Normal Weight",
          "Normal Weight",
          "Underweight",
          "Overweight",
          "Normal Weight",
          "Normal Weight",
          "Normal Weight",
          "Normal Weight",
          "Normal Weight",
          "Normal Weight",
          "Normal Weight",
          "Obese",
          "Obese",
          "Obese",
          "Obese",
          "Normal Weight",
          "Normal Weight",
          "Normal Weight",
          "Normal Weight",
          "Normal Weight",
          "Normal Weight",
          "Normal Weight",
          "Normal Weight",
          "Normal Weight",
          "Normal Weight",
          "Overweight",
          "Obese",
          "Normal Weight",
          "Normal Weight",
          "Normal Weight",
          "Normal Weight",
          "Normal Weight",
          "Normal Weight",
          "Normal Weight",
          "Obese",
          "Obese",
          "Obese",
          "Obese",
          "Underweight",
          "Normal Weight",
          "Normal Weight",
          "Normal Weight",
          "Normal Weight",
          "Normal Weight",
          "Normal Weight",
          "Normal Weight",
          "Normal Weight",
          "Underweight",
          "Underweight",
          "Overweight",
          "Normal Weight",
          "Normal Weight",
          "Normal Weight",
          "Normal Weight",
          "Normal Weight",
          "Normal Weight",
          "Normal Weight",
          "Obese",
          "Obese",
          "Obese",
          "Obese",
          "Underweight",
          "Normal Weight",
          "Normal Weight",
          "Normal Weight",
          "Normal Weight",
          "Normal Weight",
          "Normal Weight",
          "Normal Weight",
          "Underweight",
          "Underweight",
          "Underweight",
          "Underweight",
          "Underweight",
          "Underweight",
          "Underweight",
          "Underweight",
          "Overweight",
          "Normal Weight",
          "Normal Weight",
          "Normal Weight",
          "Normal Weight",
          "Normal Weight",
          "Normal Weight",
          "Normal Weight",
          "Obese",
          "Obese",
          "Obese",
          "Obese",
          "Underweight",
          "Normal Weight",
          "Normal Weight",
          "Normal Weight",
          "Normal Weight",
          "Normal Weight",
          "Normal Weight",
          "Normal Weight",
          "Underweight",
          "Underweight",
          "Underweight",
          "Underweight",
          "Underweight",
          "Underweight",
          "Underweight",
          "Underweight",
          "Overweight",
          "Normal Weight",
          "Normal Weight",
          "Normal Weight",
          "Normal Weight",
          "Normal Weight",
          "Normal Weight",
          "Normal Weight",
          "Overweight",
          "Obese",
          "Obese",
          "Obese",
          "Obese",
          "Underweight",
          "Normal Weight",
          "Normal Weight",
          "Normal Weight",
          "Normal Weight",
          "Normal Weight",
          "Normal Weight",
          "Normal Weight",
          "Underweight",
          "Underweight",
          "Underweight",
          "Underweight",
          "Underweight",
          "Underweight",
          "Underweight",
          "Underweight",
          "Overweight",
          "Obese",
          "Obese",
          "Obese",
          "Obese",
          "Underweight",
          "Normal Weight",
          "Normal Weight",
          "Normal Weight",
          "Normal Weight",
          "Normal Weight",
          "Normal Weight",
          "Normal Weight",
          "Underweight",
          "Underweight",
          "Underweight",
          "Underweight",
          "Underweight",
          "Underweight",
          "Underweight",
          "Obese",
          "Obese",
          "Obese",
          "Obese",
          "Underweight",
          "Normal Weight",
          "Normal Weight",
          "Normal Weight",
          "Normal Weight",
          "Normal Weight",
          "Normal Weight",
          "Normal Weight",
          "Underweight",
          "Underweight",
          "Underweight",
          "Underweight",
          "Underweight",
          "Underweight",
          "Underweight",
          "Obese",
          "Obese",
          "Obese",
          "Obese",
          "Underweight",
          "Normal Weight",
          "Normal Weight",
          "Normal Weight",
          "Normal Weight",
          "Normal Weight",
          "Normal Weight",
          "Normal Weight",
          "Obese",
          "Obese",
          "Obese",
          "Obese",
          "Obese",
          "Obese",
          "Obese",
          "Obese",
          "Obese",
          "Obese",
          "Obese",
          "Obese",
          "Obese",
          "Obese",
          "Obese",
          "Obese",
          "Obese",
          "Obese",
          "Obese",
          "Obese",
          "Obese",
          "Obese",
          "Obese",
          "Obese",
          "Obese",
          "Obese",
          "Normal Weight",
          "Normal Weight",
          "Normal Weight",
          "Normal Weight",
          "Overweight",
          "Overweight",
          "Normal Weight",
          "Normal Weight",
          "Normal Weight",
          "Normal Weight",
          "Normal Weight",
          "Normal Weight",
          "Normal Weight",
          "Normal Weight",
          "Normal Weight",
          "Normal Weight",
          "Normal Weight",
          "Overweight",
          "Normal Weight",
          "Normal Weight",
          "Normal Weight",
          "Overweight",
          "Normal Weight",
          "Normal Weight",
          "Normal Weight",
          "Normal Weight",
          "Normal Weight",
          "Normal Weight",
          "Normal Weight",
          "Normal Weight",
          "Normal Weight",
          "Normal Weight",
          "Normal Weight",
          "Normal Weight",
          "Normal Weight",
          "Normal Weight",
          "Normal Weight",
          "Normal Weight",
          "Normal Weight",
          "Normal Weight",
          "Normal Weight",
          "Normal Weight",
          "Normal Weight",
          "Normal Weight",
          "Normal Weight",
          "Normal Weight",
          "Normal Weight",
          "Normal Weight",
          "Normal Weight",
          "Normal Weight",
          "Normal Weight",
          "Normal Weight",
          "Normal Weight",
          "Normal Weight",
          "Normal Weight",
          "Normal Weight",
          "Normal Weight",
          "Normal Weight",
          "Normal Weight",
          "Normal Weight",
          "Normal Weight",
          "Normal Weight",
          "Normal Weight",
          "Normal Weight",
          "Normal Weight",
          "Normal Weight",
          "Normal Weight",
          "Normal Weight",
          "Normal Weight",
          "Normal Weight",
          "Normal Weight",
          "Normal Weight",
          "Normal Weight",
          "Normal Weight",
          "Normal Weight",
          "Normal Weight",
          "Normal Weight",
          "Normal Weight",
          "Normal Weight",
          "Normal Weight",
          "Normal Weight",
          "Normal Weight",
          "Normal Weight",
          "Normal Weight",
          "Normal Weight",
          "Normal Weight",
          "Normal Weight",
          "Normal Weight",
          "Normal Weight",
          "Normal Weight",
          "Normal Weight",
          "Normal Weight",
          "Overweight",
          "Overweight",
          "Overweight",
          "Normal Weight",
          "Overweight",
          "Overweight",
          "Overweight",
          "Normal Weight",
          "Overweight",
          "Overweight",
          "Overweight",
          "Overweight",
          "Overweight",
          "Overweight",
          "Obese",
          "Overweight",
          "Overweight",
          "Overweight",
          "Obese",
          "Overweight",
          "Overweight",
          "Overweight",
          "Overweight",
          "Overweight",
          "Overweight",
          "Overweight",
          "Overweight",
          "Overweight",
          "Overweight",
          "Overweight",
          "Overweight",
          "Overweight",
          "Overweight",
          "Overweight"
         ],
         "yaxis": "y"
        }
       ],
       "layout": {
        "barmode": "relative",
        "legend": {
         "tracegroupgap": 0
        },
        "margin": {
         "t": 60
        },
        "template": {
         "data": {
          "bar": [
           {
            "error_x": {
             "color": "#2a3f5f"
            },
            "error_y": {
             "color": "#2a3f5f"
            },
            "marker": {
             "line": {
              "color": "#E5ECF6",
              "width": 0.5
             },
             "pattern": {
              "fillmode": "overlay",
              "size": 10,
              "solidity": 0.2
             }
            },
            "type": "bar"
           }
          ],
          "barpolar": [
           {
            "marker": {
             "line": {
              "color": "#E5ECF6",
              "width": 0.5
             },
             "pattern": {
              "fillmode": "overlay",
              "size": 10,
              "solidity": 0.2
             }
            },
            "type": "barpolar"
           }
          ],
          "carpet": [
           {
            "aaxis": {
             "endlinecolor": "#2a3f5f",
             "gridcolor": "white",
             "linecolor": "white",
             "minorgridcolor": "white",
             "startlinecolor": "#2a3f5f"
            },
            "baxis": {
             "endlinecolor": "#2a3f5f",
             "gridcolor": "white",
             "linecolor": "white",
             "minorgridcolor": "white",
             "startlinecolor": "#2a3f5f"
            },
            "type": "carpet"
           }
          ],
          "choropleth": [
           {
            "colorbar": {
             "outlinewidth": 0,
             "ticks": ""
            },
            "type": "choropleth"
           }
          ],
          "contour": [
           {
            "colorbar": {
             "outlinewidth": 0,
             "ticks": ""
            },
            "colorscale": [
             [
              0,
              "#0d0887"
             ],
             [
              0.1111111111111111,
              "#46039f"
             ],
             [
              0.2222222222222222,
              "#7201a8"
             ],
             [
              0.3333333333333333,
              "#9c179e"
             ],
             [
              0.4444444444444444,
              "#bd3786"
             ],
             [
              0.5555555555555556,
              "#d8576b"
             ],
             [
              0.6666666666666666,
              "#ed7953"
             ],
             [
              0.7777777777777778,
              "#fb9f3a"
             ],
             [
              0.8888888888888888,
              "#fdca26"
             ],
             [
              1,
              "#f0f921"
             ]
            ],
            "type": "contour"
           }
          ],
          "contourcarpet": [
           {
            "colorbar": {
             "outlinewidth": 0,
             "ticks": ""
            },
            "type": "contourcarpet"
           }
          ],
          "heatmap": [
           {
            "colorbar": {
             "outlinewidth": 0,
             "ticks": ""
            },
            "colorscale": [
             [
              0,
              "#0d0887"
             ],
             [
              0.1111111111111111,
              "#46039f"
             ],
             [
              0.2222222222222222,
              "#7201a8"
             ],
             [
              0.3333333333333333,
              "#9c179e"
             ],
             [
              0.4444444444444444,
              "#bd3786"
             ],
             [
              0.5555555555555556,
              "#d8576b"
             ],
             [
              0.6666666666666666,
              "#ed7953"
             ],
             [
              0.7777777777777778,
              "#fb9f3a"
             ],
             [
              0.8888888888888888,
              "#fdca26"
             ],
             [
              1,
              "#f0f921"
             ]
            ],
            "type": "heatmap"
           }
          ],
          "heatmapgl": [
           {
            "colorbar": {
             "outlinewidth": 0,
             "ticks": ""
            },
            "colorscale": [
             [
              0,
              "#0d0887"
             ],
             [
              0.1111111111111111,
              "#46039f"
             ],
             [
              0.2222222222222222,
              "#7201a8"
             ],
             [
              0.3333333333333333,
              "#9c179e"
             ],
             [
              0.4444444444444444,
              "#bd3786"
             ],
             [
              0.5555555555555556,
              "#d8576b"
             ],
             [
              0.6666666666666666,
              "#ed7953"
             ],
             [
              0.7777777777777778,
              "#fb9f3a"
             ],
             [
              0.8888888888888888,
              "#fdca26"
             ],
             [
              1,
              "#f0f921"
             ]
            ],
            "type": "heatmapgl"
           }
          ],
          "histogram": [
           {
            "marker": {
             "pattern": {
              "fillmode": "overlay",
              "size": 10,
              "solidity": 0.2
             }
            },
            "type": "histogram"
           }
          ],
          "histogram2d": [
           {
            "colorbar": {
             "outlinewidth": 0,
             "ticks": ""
            },
            "colorscale": [
             [
              0,
              "#0d0887"
             ],
             [
              0.1111111111111111,
              "#46039f"
             ],
             [
              0.2222222222222222,
              "#7201a8"
             ],
             [
              0.3333333333333333,
              "#9c179e"
             ],
             [
              0.4444444444444444,
              "#bd3786"
             ],
             [
              0.5555555555555556,
              "#d8576b"
             ],
             [
              0.6666666666666666,
              "#ed7953"
             ],
             [
              0.7777777777777778,
              "#fb9f3a"
             ],
             [
              0.8888888888888888,
              "#fdca26"
             ],
             [
              1,
              "#f0f921"
             ]
            ],
            "type": "histogram2d"
           }
          ],
          "histogram2dcontour": [
           {
            "colorbar": {
             "outlinewidth": 0,
             "ticks": ""
            },
            "colorscale": [
             [
              0,
              "#0d0887"
             ],
             [
              0.1111111111111111,
              "#46039f"
             ],
             [
              0.2222222222222222,
              "#7201a8"
             ],
             [
              0.3333333333333333,
              "#9c179e"
             ],
             [
              0.4444444444444444,
              "#bd3786"
             ],
             [
              0.5555555555555556,
              "#d8576b"
             ],
             [
              0.6666666666666666,
              "#ed7953"
             ],
             [
              0.7777777777777778,
              "#fb9f3a"
             ],
             [
              0.8888888888888888,
              "#fdca26"
             ],
             [
              1,
              "#f0f921"
             ]
            ],
            "type": "histogram2dcontour"
           }
          ],
          "mesh3d": [
           {
            "colorbar": {
             "outlinewidth": 0,
             "ticks": ""
            },
            "type": "mesh3d"
           }
          ],
          "parcoords": [
           {
            "line": {
             "colorbar": {
              "outlinewidth": 0,
              "ticks": ""
             }
            },
            "type": "parcoords"
           }
          ],
          "pie": [
           {
            "automargin": true,
            "type": "pie"
           }
          ],
          "scatter": [
           {
            "fillpattern": {
             "fillmode": "overlay",
             "size": 10,
             "solidity": 0.2
            },
            "type": "scatter"
           }
          ],
          "scatter3d": [
           {
            "line": {
             "colorbar": {
              "outlinewidth": 0,
              "ticks": ""
             }
            },
            "marker": {
             "colorbar": {
              "outlinewidth": 0,
              "ticks": ""
             }
            },
            "type": "scatter3d"
           }
          ],
          "scattercarpet": [
           {
            "marker": {
             "colorbar": {
              "outlinewidth": 0,
              "ticks": ""
             }
            },
            "type": "scattercarpet"
           }
          ],
          "scattergeo": [
           {
            "marker": {
             "colorbar": {
              "outlinewidth": 0,
              "ticks": ""
             }
            },
            "type": "scattergeo"
           }
          ],
          "scattergl": [
           {
            "marker": {
             "colorbar": {
              "outlinewidth": 0,
              "ticks": ""
             }
            },
            "type": "scattergl"
           }
          ],
          "scattermapbox": [
           {
            "marker": {
             "colorbar": {
              "outlinewidth": 0,
              "ticks": ""
             }
            },
            "type": "scattermapbox"
           }
          ],
          "scatterpolar": [
           {
            "marker": {
             "colorbar": {
              "outlinewidth": 0,
              "ticks": ""
             }
            },
            "type": "scatterpolar"
           }
          ],
          "scatterpolargl": [
           {
            "marker": {
             "colorbar": {
              "outlinewidth": 0,
              "ticks": ""
             }
            },
            "type": "scatterpolargl"
           }
          ],
          "scatterternary": [
           {
            "marker": {
             "colorbar": {
              "outlinewidth": 0,
              "ticks": ""
             }
            },
            "type": "scatterternary"
           }
          ],
          "surface": [
           {
            "colorbar": {
             "outlinewidth": 0,
             "ticks": ""
            },
            "colorscale": [
             [
              0,
              "#0d0887"
             ],
             [
              0.1111111111111111,
              "#46039f"
             ],
             [
              0.2222222222222222,
              "#7201a8"
             ],
             [
              0.3333333333333333,
              "#9c179e"
             ],
             [
              0.4444444444444444,
              "#bd3786"
             ],
             [
              0.5555555555555556,
              "#d8576b"
             ],
             [
              0.6666666666666666,
              "#ed7953"
             ],
             [
              0.7777777777777778,
              "#fb9f3a"
             ],
             [
              0.8888888888888888,
              "#fdca26"
             ],
             [
              1,
              "#f0f921"
             ]
            ],
            "type": "surface"
           }
          ],
          "table": [
           {
            "cells": {
             "fill": {
              "color": "#EBF0F8"
             },
             "line": {
              "color": "white"
             }
            },
            "header": {
             "fill": {
              "color": "#C8D4E3"
             },
             "line": {
              "color": "white"
             }
            },
            "type": "table"
           }
          ]
         },
         "layout": {
          "annotationdefaults": {
           "arrowcolor": "#2a3f5f",
           "arrowhead": 0,
           "arrowwidth": 1
          },
          "autotypenumbers": "strict",
          "coloraxis": {
           "colorbar": {
            "outlinewidth": 0,
            "ticks": ""
           }
          },
          "colorscale": {
           "diverging": [
            [
             0,
             "#8e0152"
            ],
            [
             0.1,
             "#c51b7d"
            ],
            [
             0.2,
             "#de77ae"
            ],
            [
             0.3,
             "#f1b6da"
            ],
            [
             0.4,
             "#fde0ef"
            ],
            [
             0.5,
             "#f7f7f7"
            ],
            [
             0.6,
             "#e6f5d0"
            ],
            [
             0.7,
             "#b8e186"
            ],
            [
             0.8,
             "#7fbc41"
            ],
            [
             0.9,
             "#4d9221"
            ],
            [
             1,
             "#276419"
            ]
           ],
           "sequential": [
            [
             0,
             "#0d0887"
            ],
            [
             0.1111111111111111,
             "#46039f"
            ],
            [
             0.2222222222222222,
             "#7201a8"
            ],
            [
             0.3333333333333333,
             "#9c179e"
            ],
            [
             0.4444444444444444,
             "#bd3786"
            ],
            [
             0.5555555555555556,
             "#d8576b"
            ],
            [
             0.6666666666666666,
             "#ed7953"
            ],
            [
             0.7777777777777778,
             "#fb9f3a"
            ],
            [
             0.8888888888888888,
             "#fdca26"
            ],
            [
             1,
             "#f0f921"
            ]
           ],
           "sequentialminus": [
            [
             0,
             "#0d0887"
            ],
            [
             0.1111111111111111,
             "#46039f"
            ],
            [
             0.2222222222222222,
             "#7201a8"
            ],
            [
             0.3333333333333333,
             "#9c179e"
            ],
            [
             0.4444444444444444,
             "#bd3786"
            ],
            [
             0.5555555555555556,
             "#d8576b"
            ],
            [
             0.6666666666666666,
             "#ed7953"
            ],
            [
             0.7777777777777778,
             "#fb9f3a"
            ],
            [
             0.8888888888888888,
             "#fdca26"
            ],
            [
             1,
             "#f0f921"
            ]
           ]
          },
          "colorway": [
           "#636efa",
           "#EF553B",
           "#00cc96",
           "#ab63fa",
           "#FFA15A",
           "#19d3f3",
           "#FF6692",
           "#B6E880",
           "#FF97FF",
           "#FECB52"
          ],
          "font": {
           "color": "#2a3f5f"
          },
          "geo": {
           "bgcolor": "white",
           "lakecolor": "white",
           "landcolor": "#E5ECF6",
           "showlakes": true,
           "showland": true,
           "subunitcolor": "white"
          },
          "hoverlabel": {
           "align": "left"
          },
          "hovermode": "closest",
          "mapbox": {
           "style": "light"
          },
          "paper_bgcolor": "white",
          "plot_bgcolor": "#E5ECF6",
          "polar": {
           "angularaxis": {
            "gridcolor": "white",
            "linecolor": "white",
            "ticks": ""
           },
           "bgcolor": "#E5ECF6",
           "radialaxis": {
            "gridcolor": "white",
            "linecolor": "white",
            "ticks": ""
           }
          },
          "scene": {
           "xaxis": {
            "backgroundcolor": "#E5ECF6",
            "gridcolor": "white",
            "gridwidth": 2,
            "linecolor": "white",
            "showbackground": true,
            "ticks": "",
            "zerolinecolor": "white"
           },
           "yaxis": {
            "backgroundcolor": "#E5ECF6",
            "gridcolor": "white",
            "gridwidth": 2,
            "linecolor": "white",
            "showbackground": true,
            "ticks": "",
            "zerolinecolor": "white"
           },
           "zaxis": {
            "backgroundcolor": "#E5ECF6",
            "gridcolor": "white",
            "gridwidth": 2,
            "linecolor": "white",
            "showbackground": true,
            "ticks": "",
            "zerolinecolor": "white"
           }
          },
          "shapedefaults": {
           "line": {
            "color": "#2a3f5f"
           }
          },
          "ternary": {
           "aaxis": {
            "gridcolor": "white",
            "linecolor": "white",
            "ticks": ""
           },
           "baxis": {
            "gridcolor": "white",
            "linecolor": "white",
            "ticks": ""
           },
           "bgcolor": "#E5ECF6",
           "caxis": {
            "gridcolor": "white",
            "linecolor": "white",
            "ticks": ""
           }
          },
          "title": {
           "x": 0.05
          },
          "xaxis": {
           "automargin": true,
           "gridcolor": "white",
           "linecolor": "white",
           "ticks": "",
           "title": {
            "standoff": 15
           },
           "zerolinecolor": "white",
           "zerolinewidth": 2
          },
          "yaxis": {
           "automargin": true,
           "gridcolor": "white",
           "linecolor": "white",
           "ticks": "",
           "title": {
            "standoff": 15
           },
           "zerolinecolor": "white",
           "zerolinewidth": 2
          }
         }
        },
        "xaxis": {
         "anchor": "y",
         "domain": [
          0,
          1
         ],
         "title": {
          "text": "dance"
         }
        },
        "yaxis": {
         "anchor": "x",
         "domain": [
          0,
          1
         ],
         "title": {
          "text": "BmiClass"
         }
        }
       }
      }
     },
     "metadata": {},
     "output_type": "display_data"
    }
   ],
   "source": [
    "\n",
    "import plotly.express as px\n",
    "fig = px.bar(data, x='dance',y='BmiClass')\n",
    "fig.show()"
   ]
  },
  {
   "cell_type": "code",
   "execution_count": 6,
   "metadata": {},
   "outputs": [
    {
     "data": {
      "application/vnd.plotly.v1+json": {
       "config": {
        "plotlyServerURL": "https://plot.ly"
       },
       "data": [
        {
         "coloraxis": "coloraxis",
         "hovertemplate": "BmiClass=%{x}<br>target=%{y}<br>count=%{z}<extra></extra>",
         "name": "",
         "type": "histogram2d",
         "x": [
          "Obese",
          "Overweight",
          "Obese",
          "Underweight",
          "Obese",
          "Overweight",
          "Overweight",
          "Overweight",
          "Underweight",
          "Obese",
          "Overweight",
          "Overweight",
          "Overweight",
          "Underweight",
          "Overweight",
          "Overweight",
          "Overweight",
          "Obese",
          "Obese",
          "Underweight",
          "Obese",
          "Overweight",
          "Overweight",
          "Overweight",
          "Overweight",
          "Underweight",
          "Obese",
          "Obese",
          "Overweight",
          "Overweight",
          "Overweight",
          "Obese",
          "Obese",
          "Underweight",
          "Overweight",
          "Overweight",
          "Obese",
          "Underweight",
          "Obese",
          "Overweight",
          "Overweight",
          "Underweight",
          "Obese",
          "Overweight",
          "Overweight",
          "Overweight",
          "Underweight",
          "Obese",
          "Overweight",
          "Overweight",
          "Overweight",
          "Underweight",
          "Overweight",
          "Obese",
          "Overweight",
          "Overweight",
          "Overweight",
          "Obese",
          "Underweight",
          "Overweight",
          "Underweight",
          "Obese",
          "Obese",
          "Overweight",
          "Overweight",
          "Overweight",
          "Overweight",
          "Underweight",
          "Overweight",
          "Underweight",
          "Obese",
          "Overweight",
          "Normal Weight",
          "Overweight",
          "Obese",
          "Underweight",
          "Overweight",
          "Underweight",
          "Obese",
          "Overweight",
          "Normal Weight",
          "Overweight",
          "Underweight",
          "Overweight",
          "Underweight",
          "Obese",
          "Obese",
          "Overweight",
          "Normal Weight",
          "Overweight",
          "Normal Weight",
          "Overweight",
          "Underweight",
          "Obese",
          "Overweight",
          "Normal Weight",
          "Overweight",
          "Obese",
          "Normal Weight",
          "Overweight",
          "Underweight",
          "Overweight",
          "Obese",
          "Overweight",
          "Normal Weight",
          "Overweight",
          "Normal Weight",
          "Overweight",
          "Underweight",
          "Overweight",
          "Obese",
          "Overweight",
          "Normal Weight",
          "Overweight",
          "Normal Weight",
          "Overweight",
          "Underweight",
          "Obese",
          "Overweight",
          "Normal Weight",
          "Overweight",
          "Obese",
          "Normal Weight",
          "Normal Weight",
          "Underweight",
          "Overweight",
          "Obese",
          "Overweight",
          "Normal Weight",
          "Overweight",
          "Normal Weight",
          "Overweight",
          "Underweight",
          "Obese",
          "Overweight",
          "Normal Weight",
          "Overweight",
          "Normal Weight",
          "Obese",
          "Normal Weight",
          "Overweight",
          "Underweight",
          "Obese",
          "Overweight",
          "Normal Weight",
          "Overweight",
          "Normal Weight",
          "Normal Weight",
          "Overweight",
          "Underweight",
          "Overweight",
          "Obese",
          "Overweight",
          "Normal Weight",
          "Overweight",
          "Normal Weight",
          "Overweight",
          "Normal Weight",
          "Overweight",
          "Underweight",
          "Overweight",
          "Obese",
          "Overweight",
          "Normal Weight",
          "Overweight",
          "Normal Weight",
          "Overweight",
          "Underweight",
          "Overweight",
          "Underweight",
          "Obese",
          "Overweight",
          "Normal Weight",
          "Overweight",
          "Normal Weight",
          "Overweight",
          "Underweight",
          "Normal Weight",
          "Normal Weight",
          "Underweight",
          "Obese",
          "Overweight",
          "Normal Weight",
          "Overweight",
          "Normal Weight",
          "Overweight",
          "Overweight",
          "Underweight",
          "Normal Weight",
          "Normal Weight",
          "Normal Weight",
          "Underweight",
          "Overweight",
          "Obese",
          "Overweight",
          "Normal Weight",
          "Overweight",
          "Normal Weight",
          "Overweight",
          "Underweight",
          "Normal Weight",
          "Normal Weight",
          "Normal Weight",
          "Normal Weight",
          "Normal Weight",
          "Underweight",
          "Overweight",
          "Obese",
          "Overweight",
          "Normal Weight",
          "Overweight",
          "Normal Weight",
          "Overweight",
          "Underweight",
          "Normal Weight",
          "Normal Weight",
          "Normal Weight",
          "Normal Weight",
          "Underweight",
          "Overweight",
          "Obese",
          "Overweight",
          "Normal Weight",
          "Overweight",
          "Normal Weight",
          "Obese",
          "Underweight",
          "Normal Weight",
          "Normal Weight",
          "Normal Weight",
          "Normal Weight",
          "Normal Weight",
          "Normal Weight",
          "Underweight",
          "Overweight",
          "Obese",
          "Overweight",
          "Normal Weight",
          "Overweight",
          "Normal Weight",
          "Overweight",
          "Underweight",
          "Normal Weight",
          "Normal Weight",
          "Normal Weight",
          "Normal Weight",
          "Normal Weight",
          "Overweight",
          "Underweight",
          "Overweight",
          "Obese",
          "Overweight",
          "Normal Weight",
          "Overweight",
          "Normal Weight",
          "Overweight",
          "Obese",
          "Obese",
          "Obese",
          "Obese",
          "Normal Weight",
          "Normal Weight",
          "Normal Weight",
          "Normal Weight",
          "Normal Weight",
          "Overweight",
          "Overweight",
          "Normal Weight",
          "Underweight",
          "Overweight",
          "Obese",
          "Normal Weight",
          "Normal Weight",
          "Normal Weight",
          "Normal Weight",
          "Normal Weight",
          "Obese",
          "Obese",
          "Obese",
          "Normal Weight",
          "Normal Weight",
          "Normal Weight",
          "Normal Weight",
          "Normal Weight",
          "Overweight",
          "Overweight",
          "Normal Weight",
          "Underweight",
          "Overweight",
          "Obese",
          "Normal Weight",
          "Normal Weight",
          "Normal Weight",
          "Normal Weight",
          "Normal Weight",
          "Normal Weight",
          "Obese",
          "Obese",
          "Obese",
          "Normal Weight",
          "Normal Weight",
          "Normal Weight",
          "Normal Weight",
          "Normal Weight",
          "Normal Weight",
          "Overweight",
          "Overweight",
          "Normal Weight",
          "Underweight",
          "Overweight",
          "Obese",
          "Normal Weight",
          "Normal Weight",
          "Normal Weight",
          "Normal Weight",
          "Normal Weight",
          "Obese",
          "Obese",
          "Obese",
          "Normal Weight",
          "Normal Weight",
          "Normal Weight",
          "Normal Weight",
          "Normal Weight",
          "Overweight",
          "Overweight",
          "Normal Weight",
          "Underweight",
          "Overweight",
          "Obese",
          "Normal Weight",
          "Normal Weight",
          "Normal Weight",
          "Normal Weight",
          "Normal Weight",
          "Obese",
          "Obese",
          "Obese",
          "Normal Weight",
          "Normal Weight",
          "Normal Weight",
          "Normal Weight",
          "Normal Weight",
          "Overweight",
          "Overweight",
          "Normal Weight",
          "Underweight",
          "Overweight",
          "Obese",
          "Normal Weight",
          "Normal Weight",
          "Normal Weight",
          "Normal Weight",
          "Normal Weight",
          "Obese",
          "Obese",
          "Obese",
          "Normal Weight",
          "Normal Weight",
          "Normal Weight",
          "Normal Weight",
          "Normal Weight",
          "Normal Weight",
          "Normal Weight",
          "Normal Weight",
          "Overweight",
          "Overweight",
          "Normal Weight",
          "Underweight",
          "Overweight",
          "Obese",
          "Normal Weight",
          "Normal Weight",
          "Normal Weight",
          "Normal Weight",
          "Normal Weight",
          "Obese",
          "Obese",
          "Obese",
          "Normal Weight",
          "Normal Weight",
          "Normal Weight",
          "Normal Weight",
          "Normal Weight",
          "Normal Weight",
          "Normal Weight",
          "Normal Weight",
          "Normal Weight",
          "Underweight",
          "Overweight",
          "Obese",
          "Normal Weight",
          "Normal Weight",
          "Normal Weight",
          "Normal Weight",
          "Normal Weight",
          "Obese",
          "Obese",
          "Obese",
          "Normal Weight",
          "Normal Weight",
          "Normal Weight",
          "Normal Weight",
          "Normal Weight",
          "Normal Weight",
          "Normal Weight",
          "Underweight",
          "Overweight",
          "Normal Weight",
          "Normal Weight",
          "Normal Weight",
          "Normal Weight",
          "Normal Weight",
          "Normal Weight",
          "Normal Weight",
          "Obese",
          "Obese",
          "Obese",
          "Obese",
          "Normal Weight",
          "Normal Weight",
          "Normal Weight",
          "Normal Weight",
          "Normal Weight",
          "Normal Weight",
          "Normal Weight",
          "Normal Weight",
          "Normal Weight",
          "Normal Weight",
          "Overweight",
          "Obese",
          "Normal Weight",
          "Normal Weight",
          "Normal Weight",
          "Normal Weight",
          "Normal Weight",
          "Normal Weight",
          "Normal Weight",
          "Obese",
          "Obese",
          "Obese",
          "Obese",
          "Underweight",
          "Normal Weight",
          "Normal Weight",
          "Normal Weight",
          "Normal Weight",
          "Normal Weight",
          "Normal Weight",
          "Normal Weight",
          "Normal Weight",
          "Underweight",
          "Underweight",
          "Overweight",
          "Normal Weight",
          "Normal Weight",
          "Normal Weight",
          "Normal Weight",
          "Normal Weight",
          "Normal Weight",
          "Normal Weight",
          "Obese",
          "Obese",
          "Obese",
          "Obese",
          "Underweight",
          "Normal Weight",
          "Normal Weight",
          "Normal Weight",
          "Normal Weight",
          "Normal Weight",
          "Normal Weight",
          "Normal Weight",
          "Underweight",
          "Underweight",
          "Underweight",
          "Underweight",
          "Underweight",
          "Underweight",
          "Underweight",
          "Underweight",
          "Overweight",
          "Normal Weight",
          "Normal Weight",
          "Normal Weight",
          "Normal Weight",
          "Normal Weight",
          "Normal Weight",
          "Normal Weight",
          "Obese",
          "Obese",
          "Obese",
          "Obese",
          "Underweight",
          "Normal Weight",
          "Normal Weight",
          "Normal Weight",
          "Normal Weight",
          "Normal Weight",
          "Normal Weight",
          "Normal Weight",
          "Underweight",
          "Underweight",
          "Underweight",
          "Underweight",
          "Underweight",
          "Underweight",
          "Underweight",
          "Underweight",
          "Overweight",
          "Normal Weight",
          "Normal Weight",
          "Normal Weight",
          "Normal Weight",
          "Normal Weight",
          "Normal Weight",
          "Normal Weight",
          "Overweight",
          "Obese",
          "Obese",
          "Obese",
          "Obese",
          "Underweight",
          "Normal Weight",
          "Normal Weight",
          "Normal Weight",
          "Normal Weight",
          "Normal Weight",
          "Normal Weight",
          "Normal Weight",
          "Underweight",
          "Underweight",
          "Underweight",
          "Underweight",
          "Underweight",
          "Underweight",
          "Underweight",
          "Underweight",
          "Overweight",
          "Obese",
          "Obese",
          "Obese",
          "Obese",
          "Underweight",
          "Normal Weight",
          "Normal Weight",
          "Normal Weight",
          "Normal Weight",
          "Normal Weight",
          "Normal Weight",
          "Normal Weight",
          "Underweight",
          "Underweight",
          "Underweight",
          "Underweight",
          "Underweight",
          "Underweight",
          "Underweight",
          "Obese",
          "Obese",
          "Obese",
          "Obese",
          "Underweight",
          "Normal Weight",
          "Normal Weight",
          "Normal Weight",
          "Normal Weight",
          "Normal Weight",
          "Normal Weight",
          "Normal Weight",
          "Underweight",
          "Underweight",
          "Underweight",
          "Underweight",
          "Underweight",
          "Underweight",
          "Underweight",
          "Obese",
          "Obese",
          "Obese",
          "Obese",
          "Underweight",
          "Normal Weight",
          "Normal Weight",
          "Normal Weight",
          "Normal Weight",
          "Normal Weight",
          "Normal Weight",
          "Normal Weight",
          "Obese",
          "Obese",
          "Obese",
          "Obese",
          "Obese",
          "Obese",
          "Obese",
          "Obese",
          "Obese",
          "Obese",
          "Obese",
          "Obese",
          "Obese",
          "Obese",
          "Obese",
          "Obese",
          "Obese",
          "Obese",
          "Obese",
          "Obese",
          "Obese",
          "Obese",
          "Obese",
          "Obese",
          "Obese",
          "Obese",
          "Normal Weight",
          "Normal Weight",
          "Normal Weight",
          "Normal Weight",
          "Overweight",
          "Overweight",
          "Normal Weight",
          "Normal Weight",
          "Normal Weight",
          "Normal Weight",
          "Normal Weight",
          "Normal Weight",
          "Normal Weight",
          "Normal Weight",
          "Normal Weight",
          "Normal Weight",
          "Normal Weight",
          "Overweight",
          "Normal Weight",
          "Normal Weight",
          "Normal Weight",
          "Overweight",
          "Normal Weight",
          "Normal Weight",
          "Normal Weight",
          "Normal Weight",
          "Normal Weight",
          "Normal Weight",
          "Normal Weight",
          "Normal Weight",
          "Normal Weight",
          "Normal Weight",
          "Normal Weight",
          "Normal Weight",
          "Normal Weight",
          "Normal Weight",
          "Normal Weight",
          "Normal Weight",
          "Normal Weight",
          "Normal Weight",
          "Normal Weight",
          "Normal Weight",
          "Normal Weight",
          "Normal Weight",
          "Normal Weight",
          "Normal Weight",
          "Normal Weight",
          "Normal Weight",
          "Normal Weight",
          "Normal Weight",
          "Normal Weight",
          "Normal Weight",
          "Normal Weight",
          "Normal Weight",
          "Normal Weight",
          "Normal Weight",
          "Normal Weight",
          "Normal Weight",
          "Normal Weight",
          "Normal Weight",
          "Normal Weight",
          "Normal Weight",
          "Normal Weight",
          "Normal Weight",
          "Normal Weight",
          "Normal Weight",
          "Normal Weight",
          "Normal Weight",
          "Normal Weight",
          "Normal Weight",
          "Normal Weight",
          "Normal Weight",
          "Normal Weight",
          "Normal Weight",
          "Normal Weight",
          "Normal Weight",
          "Normal Weight",
          "Normal Weight",
          "Normal Weight",
          "Normal Weight",
          "Normal Weight",
          "Normal Weight",
          "Normal Weight",
          "Normal Weight",
          "Normal Weight",
          "Normal Weight",
          "Normal Weight",
          "Normal Weight",
          "Normal Weight",
          "Normal Weight",
          "Normal Weight",
          "Normal Weight",
          "Overweight",
          "Overweight",
          "Overweight",
          "Normal Weight",
          "Overweight",
          "Overweight",
          "Overweight",
          "Normal Weight",
          "Overweight",
          "Overweight",
          "Overweight",
          "Overweight",
          "Overweight",
          "Overweight",
          "Obese",
          "Overweight",
          "Overweight",
          "Overweight",
          "Obese",
          "Overweight",
          "Overweight",
          "Overweight",
          "Overweight",
          "Overweight",
          "Overweight",
          "Overweight",
          "Overweight",
          "Overweight",
          "Overweight",
          "Overweight",
          "Overweight",
          "Overweight",
          "Overweight",
          "Overweight"
         ],
         "xaxis": "x",
         "xbingroup": "x",
         "y": [
          "Dance",
          "Dance",
          "Cardio",
          "Strength_training",
          "Dance",
          "Dance",
          "Dance",
          "Cardio+strength_training",
          "Dance",
          "Dance",
          "Dance",
          "Cardio+strength_training",
          "Dance",
          "Strength_training",
          "Cardio+strength_training",
          "Dance",
          "Dance",
          "Cardio",
          "Cardio",
          "Dance",
          "Dance",
          "Cardio+strength_training",
          "Cardio+strength_training",
          "Cardio+strength_training",
          "Cardio+strength_training",
          "Strength_training",
          "Cardio",
          "Cardio",
          "Cardio+strength_training",
          "Cardio+strength_training",
          "Cardio+strength_training",
          "Dance",
          "Dance",
          "Dance",
          "Dance",
          "Dance",
          "Dance",
          "Dance",
          "Dance",
          "Dance",
          "Dance",
          "Dance",
          "Dance",
          "Dance",
          "Dance",
          "Dance",
          "Dance",
          "Dance",
          "Dance",
          "Dance",
          "Dance",
          "Dance",
          "Dance",
          "Dance",
          "Cardio+strength_training",
          "Cardio+strength_training",
          "Cardio+strength_training",
          "Cardio",
          "Strength_training",
          "Cardio+strength_training",
          "Strength_training",
          "Cardio",
          "Cardio",
          "Cardio+strength_training",
          "Cardio+strength_training",
          "Cardio+strength_training",
          "Cardio+strength_training",
          "Strength_training",
          "Cardio+strength_training",
          "Strength_training",
          "Cardio",
          "Cardio+strength_training",
          "Cardio+strength_training",
          "Cardio+strength_training",
          "Cardio",
          "Strength_training",
          "Cardio+strength_training",
          "Strength_training",
          "Cardio",
          "Cardio+strength_training",
          "Cardio+strength_training",
          "Cardio+strength_training",
          "Strength_training",
          "Dance",
          "Dance",
          "Dance",
          "Dance",
          "Dance",
          "Dance",
          "Dance",
          "Dance",
          "Dance",
          "Dance",
          "Dance",
          "Dance",
          "Dance",
          "Dance",
          "Dance",
          "Dance",
          "Dance",
          "Dance",
          "Dance",
          "Dance",
          "Dance",
          "Dance",
          "Dance",
          "Dance",
          "Dance",
          "Dance",
          "Dance",
          "Dance",
          "Dance",
          "Dance",
          "Dance",
          "Dance",
          "Dance",
          "Dance",
          "Dance",
          "Dance",
          "Dance",
          "Dance",
          "Dance",
          "Dance",
          "Dance",
          "Dance",
          "Dance",
          "Dance",
          "Dance",
          "Dance",
          "Dance",
          "Dance",
          "Dance",
          "Dance",
          "Dance",
          "Dance",
          "Dance",
          "Dance",
          "Dance",
          "Dance",
          "Dance",
          "Dance",
          "Dance",
          "Dance",
          "Dance",
          "Dance",
          "Dance",
          "Dance",
          "Dance",
          "Dance",
          "Dance",
          "Dance",
          "Dance",
          "Dance",
          "Dance",
          "Dance",
          "Dance",
          "Dance",
          "Dance",
          "Dance",
          "Dance",
          "Dance",
          "Dance",
          "Dance",
          "Dance",
          "Dance",
          "Dance",
          "Dance",
          "Dance",
          "Dance",
          "Dance",
          "Dance",
          "Dance",
          "Dance",
          "Dance",
          "Dance",
          "Dance",
          "Dance",
          "Dance",
          "Dance",
          "Dance",
          "Dance",
          "Dance",
          "Dance",
          "Dance",
          "Dance",
          "Dance",
          "Dance",
          "Dance",
          "Dance",
          "Dance",
          "Dance",
          "Dance",
          "Dance",
          "Dance",
          "Dance",
          "Dance",
          "Dance",
          "Dance",
          "Dance",
          "Dance",
          "Dance",
          "Dance",
          "Dance",
          "Dance",
          "Dance",
          "Dance",
          "Dance",
          "Dance",
          "Dance",
          "Dance",
          "Dance",
          "Dance",
          "Dance",
          "Dance",
          "Dance",
          "Dance",
          "Dance",
          "Dance",
          "Dance",
          "Dance",
          "Dance",
          "Cardio+strength_training",
          "Cardio+strength_training",
          "Cardio+strength_training",
          "Cardio+strength_training",
          "Cardio",
          "Strength_training",
          "Cardio+strength_training",
          "Cardio+strength_training",
          "Cardio+strength_training",
          "Cardio+strength_training",
          "Cardio+strength_training",
          "Cardio+strength_training",
          "Strength_training",
          "Cardio+strength_training",
          "Cardio",
          "Cardio+strength_training",
          "Cardio+strength_training",
          "Cardio+strength_training",
          "Cardio+strength_training",
          "Cardio+strength_training",
          "Strength_training",
          "Cardio+strength_training",
          "Cardio+strength_training",
          "Cardio+strength_training",
          "Cardio+strength_training",
          "Cardio+strength_training",
          "Cardio+strength_training",
          "Strength_training",
          "Cardio+strength_training",
          "Cardio",
          "Cardio+strength_training",
          "Cardio+strength_training",
          "Cardio+strength_training",
          "Cardio+strength_training",
          "Dance",
          "Dance",
          "Dance",
          "Dance",
          "Dance",
          "Dance",
          "Dance",
          "Dance",
          "Dance",
          "Dance",
          "Dance",
          "Dance",
          "Dance",
          "Dance",
          "Dance",
          "Dance",
          "Dance",
          "Dance",
          "Dance",
          "Dance",
          "Dance",
          "Dance",
          "Dance",
          "Dance",
          "Dance",
          "Dance",
          "Dance",
          "Dance",
          "Dance",
          "Dance",
          "Dance",
          "Dance",
          "Dance",
          "Dance",
          "Dance",
          "Dance",
          "Dance",
          "Dance",
          "Dance",
          "Dance",
          "Dance",
          "Dance",
          "Dance",
          "Dance",
          "Dance",
          "Dance",
          "Dance",
          "Dance",
          "Dance",
          "Dance",
          "Dance",
          "Dance",
          "Dance",
          "Dance",
          "Dance",
          "Dance",
          "Dance",
          "Dance",
          "Dance",
          "Dance",
          "Dance",
          "Dance",
          "Dance",
          "Dance",
          "Dance",
          "Dance",
          "Dance",
          "Dance",
          "Dance",
          "Dance",
          "Dance",
          "Dance",
          "Dance",
          "Dance",
          "Dance",
          "Dance",
          "Dance",
          "Dance",
          "Dance",
          "Dance",
          "Dance",
          "Dance",
          "Dance",
          "Dance",
          "Dance",
          "Dance",
          "Dance",
          "Dance",
          "Dance",
          "Dance",
          "Dance",
          "Dance",
          "Dance",
          "Dance",
          "Dance",
          "Dance",
          "Dance",
          "Dance",
          "Dance",
          "Dance",
          "Dance",
          "Dance",
          "Dance",
          "Dance",
          "Dance",
          "Dance",
          "Dance",
          "Dance",
          "Dance",
          "Dance",
          "Dance",
          "Dance",
          "Dance",
          "Dance",
          "Dance",
          "Dance",
          "Dance",
          "Dance",
          "Dance",
          "Dance",
          "Dance",
          "Dance",
          "Dance",
          "Dance",
          "Dance",
          "Dance",
          "Dance",
          "Dance",
          "Dance",
          "Dance",
          "Dance",
          "Dance",
          "Dance",
          "Dance",
          "Dance",
          "Dance",
          "Cardio+strength_training",
          "Cardio+strength_training",
          "Cardio+strength_training",
          "Cardio+strength_training",
          "Cardio+strength_training",
          "Cardio",
          "Cardio",
          "Cardio",
          "Cardio+strength_training",
          "Cardio+strength_training",
          "Cardio+strength_training",
          "Cardio+strength_training",
          "Cardio+strength_training",
          "Cardio+strength_training",
          "Cardio+strength_training",
          "Strength_training",
          "Cardio+strength_training",
          "Cardio+strength_training",
          "Cardio+strength_training",
          "Cardio+strength_training",
          "Cardio+strength_training",
          "Cardio+strength_training",
          "Cardio+strength_training",
          "Cardio+strength_training",
          "Cardio",
          "Cardio",
          "Cardio",
          "Cardio",
          "Cardio+strength_training",
          "Cardio+strength_training",
          "Cardio+strength_training",
          "Cardio+strength_training",
          "Cardio+strength_training",
          "Cardio+strength_training",
          "Cardio+strength_training",
          "Cardio+strength_training",
          "Cardio+strength_training",
          "Cardio+strength_training",
          "Cardio+strength_training",
          "Cardio",
          "Cardio+strength_training",
          "Cardio+strength_training",
          "Cardio+strength_training",
          "Cardio+strength_training",
          "Cardio+strength_training",
          "Cardio+strength_training",
          "Cardio+strength_training",
          "Cardio",
          "Cardio",
          "Cardio",
          "Cardio",
          "Strength_training",
          "Cardio+strength_training",
          "Cardio+strength_training",
          "Cardio+strength_training",
          "Cardio+strength_training",
          "Cardio+strength_training",
          "Cardio+strength_training",
          "Cardio+strength_training",
          "Cardio+strength_training",
          "Strength_training",
          "Strength_training",
          "Cardio+strength_training",
          "Cardio+strength_training",
          "Cardio+strength_training",
          "Cardio+strength_training",
          "Cardio+strength_training",
          "Cardio+strength_training",
          "Cardio+strength_training",
          "Cardio+strength_training",
          "Cardio",
          "Cardio",
          "Cardio",
          "Cardio",
          "Strength_training",
          "Cardio+strength_training",
          "Cardio+strength_training",
          "Cardio+strength_training",
          "Cardio+strength_training",
          "Cardio+strength_training",
          "Cardio+strength_training",
          "Cardio+strength_training",
          "Strength_training",
          "Strength_training",
          "Strength_training",
          "Strength_training",
          "Strength_training",
          "Strength_training",
          "Strength_training",
          "Strength_training",
          "Cardio+strength_training",
          "Cardio+strength_training",
          "Cardio+strength_training",
          "Cardio+strength_training",
          "Cardio+strength_training",
          "Cardio+strength_training",
          "Cardio+strength_training",
          "Cardio+strength_training",
          "Cardio",
          "Cardio",
          "Cardio",
          "Cardio",
          "Strength_training",
          "Cardio+strength_training",
          "Cardio+strength_training",
          "Cardio+strength_training",
          "Cardio+strength_training",
          "Cardio+strength_training",
          "Cardio+strength_training",
          "Cardio+strength_training",
          "Strength_training",
          "Strength_training",
          "Strength_training",
          "Strength_training",
          "Strength_training",
          "Strength_training",
          "Strength_training",
          "Strength_training",
          "Cardio+strength_training",
          "Cardio+strength_training",
          "Cardio+strength_training",
          "Cardio+strength_training",
          "Cardio+strength_training",
          "Cardio+strength_training",
          "Cardio+strength_training",
          "Cardio+strength_training",
          "Cardio+strength_training",
          "Cardio",
          "Cardio",
          "Cardio",
          "Cardio",
          "Strength_training",
          "Cardio+strength_training",
          "Cardio+strength_training",
          "Cardio+strength_training",
          "Cardio+strength_training",
          "Cardio+strength_training",
          "Cardio+strength_training",
          "Cardio+strength_training",
          "Strength_training",
          "Strength_training",
          "Strength_training",
          "Strength_training",
          "Strength_training",
          "Strength_training",
          "Strength_training",
          "Strength_training",
          "Cardio+strength_training",
          "Cardio",
          "Cardio",
          "Cardio",
          "Cardio",
          "Strength_training",
          "Cardio+strength_training",
          "Cardio+strength_training",
          "Cardio+strength_training",
          "Cardio+strength_training",
          "Cardio+strength_training",
          "Cardio+strength_training",
          "Cardio+strength_training",
          "Strength_training",
          "Strength_training",
          "Dance",
          "Dance",
          "Dance",
          "Dance",
          "Dance",
          "Dance",
          "Dance",
          "Dance",
          "Dance",
          "Dance",
          "Dance",
          "Dance",
          "Dance",
          "Dance",
          "Dance",
          "Dance",
          "Dance",
          "Dance",
          "Dance",
          "Dance",
          "Dance",
          "Dance",
          "Dance",
          "Dance",
          "Dance",
          "Dance",
          "Dance",
          "Dance",
          "Dance",
          "Dance",
          "Dance",
          "Dance",
          "Dance",
          "Dance",
          "Dance",
          "Dance",
          "Dance",
          "Dance",
          "Dance",
          "Dance",
          "Dance",
          "Dance",
          "Dance",
          "Dance",
          "Dance",
          "Dance",
          "Dance",
          "Dance",
          "Dance",
          "Dance",
          "Dance",
          "Dance",
          "Dance",
          "Dance",
          "Dance",
          "Dance",
          "Dance",
          "Dance",
          "Dance",
          "Dance",
          "Dance",
          "Dance",
          "Dance",
          "Dance",
          "Dance",
          "Dance",
          "Dance",
          "Dance",
          "Dance",
          "Dance",
          "Dance",
          "Dance",
          "Dance",
          "Dance",
          "Dance",
          "Dance",
          "Dance",
          "Dance",
          "Dance",
          "Dance",
          "Dance",
          "Dance",
          "Dance",
          "Dance",
          "Dance",
          "Dance",
          "Dance",
          "Dance",
          "Dance",
          "Dance",
          "Dance",
          "Dance",
          "Dance",
          "Dance",
          "Dance",
          "Dance",
          "Dance",
          "Dance",
          "Dance",
          "Dance",
          "Dance",
          "Dance",
          "Dance",
          "Dance",
          "Dance",
          "Dance",
          "Dance",
          "Dance",
          "Dance",
          "Dance",
          "Dance",
          "Dance",
          "Dance",
          "Dance",
          "Dance",
          "Dance",
          "Dance",
          "Dance",
          "Dance",
          "Dance",
          "Dance",
          "Dance",
          "Dance",
          "Dance",
          "Dance",
          "Dance",
          "Dance",
          "Dance",
          "Dance",
          "Dance",
          "Dance",
          "Dance",
          "Dance",
          "Dance",
          "Dance",
          "Dance",
          "Dance",
          "Dance",
          "Dance",
          "Dance",
          "Dance",
          "Dance",
          "Dance",
          "Dance",
          "Dance",
          "Cardio+strength_training",
          "Cardio+strength_training",
          "Cardio+strength_training",
          "Cardio+strength_training",
          "Cardio+strength_training",
          "Cardio+strength_training",
          "Cardio+strength_training",
          "Cardio+strength_training",
          "Cardio+strength_training",
          "Cardio+strength_training",
          "Cardio+strength_training",
          "Cardio+strength_training",
          "Cardio+strength_training",
          "Cardio+strength_training",
          "Cardio+strength_training",
          "Cardio+strength_training",
          "Cardio+strength_training",
          "Cardio+strength_training",
          "Cardio+strength_training",
          "Cardio+strength_training",
          "Cardio+strength_training",
          "Cardio+strength_training",
          "Dance",
          "Dance",
          "Dance",
          "Dance",
          "Dance",
          "Dance",
          "Dance",
          "Dance",
          "Dance",
          "Dance",
          "Dance",
          "Dance",
          "Dance",
          "Dance",
          "Dance",
          "Dance",
          "Dance",
          "Dance",
          "Cardio+strength_training",
          "Cardio+strength_training",
          "Cardio+strength_training"
         ],
         "yaxis": "y",
         "ybingroup": "y"
        }
       ],
       "layout": {
        "coloraxis": {
         "colorbar": {
          "title": {
           "text": "count"
          }
         },
         "colorscale": [
          [
           0,
           "#0d0887"
          ],
          [
           0.1111111111111111,
           "#46039f"
          ],
          [
           0.2222222222222222,
           "#7201a8"
          ],
          [
           0.3333333333333333,
           "#9c179e"
          ],
          [
           0.4444444444444444,
           "#bd3786"
          ],
          [
           0.5555555555555556,
           "#d8576b"
          ],
          [
           0.6666666666666666,
           "#ed7953"
          ],
          [
           0.7777777777777778,
           "#fb9f3a"
          ],
          [
           0.8888888888888888,
           "#fdca26"
          ],
          [
           1,
           "#f0f921"
          ]
         ]
        },
        "legend": {
         "tracegroupgap": 0
        },
        "margin": {
         "t": 60
        },
        "template": {
         "data": {
          "bar": [
           {
            "error_x": {
             "color": "#2a3f5f"
            },
            "error_y": {
             "color": "#2a3f5f"
            },
            "marker": {
             "line": {
              "color": "#E5ECF6",
              "width": 0.5
             },
             "pattern": {
              "fillmode": "overlay",
              "size": 10,
              "solidity": 0.2
             }
            },
            "type": "bar"
           }
          ],
          "barpolar": [
           {
            "marker": {
             "line": {
              "color": "#E5ECF6",
              "width": 0.5
             },
             "pattern": {
              "fillmode": "overlay",
              "size": 10,
              "solidity": 0.2
             }
            },
            "type": "barpolar"
           }
          ],
          "carpet": [
           {
            "aaxis": {
             "endlinecolor": "#2a3f5f",
             "gridcolor": "white",
             "linecolor": "white",
             "minorgridcolor": "white",
             "startlinecolor": "#2a3f5f"
            },
            "baxis": {
             "endlinecolor": "#2a3f5f",
             "gridcolor": "white",
             "linecolor": "white",
             "minorgridcolor": "white",
             "startlinecolor": "#2a3f5f"
            },
            "type": "carpet"
           }
          ],
          "choropleth": [
           {
            "colorbar": {
             "outlinewidth": 0,
             "ticks": ""
            },
            "type": "choropleth"
           }
          ],
          "contour": [
           {
            "colorbar": {
             "outlinewidth": 0,
             "ticks": ""
            },
            "colorscale": [
             [
              0,
              "#0d0887"
             ],
             [
              0.1111111111111111,
              "#46039f"
             ],
             [
              0.2222222222222222,
              "#7201a8"
             ],
             [
              0.3333333333333333,
              "#9c179e"
             ],
             [
              0.4444444444444444,
              "#bd3786"
             ],
             [
              0.5555555555555556,
              "#d8576b"
             ],
             [
              0.6666666666666666,
              "#ed7953"
             ],
             [
              0.7777777777777778,
              "#fb9f3a"
             ],
             [
              0.8888888888888888,
              "#fdca26"
             ],
             [
              1,
              "#f0f921"
             ]
            ],
            "type": "contour"
           }
          ],
          "contourcarpet": [
           {
            "colorbar": {
             "outlinewidth": 0,
             "ticks": ""
            },
            "type": "contourcarpet"
           }
          ],
          "heatmap": [
           {
            "colorbar": {
             "outlinewidth": 0,
             "ticks": ""
            },
            "colorscale": [
             [
              0,
              "#0d0887"
             ],
             [
              0.1111111111111111,
              "#46039f"
             ],
             [
              0.2222222222222222,
              "#7201a8"
             ],
             [
              0.3333333333333333,
              "#9c179e"
             ],
             [
              0.4444444444444444,
              "#bd3786"
             ],
             [
              0.5555555555555556,
              "#d8576b"
             ],
             [
              0.6666666666666666,
              "#ed7953"
             ],
             [
              0.7777777777777778,
              "#fb9f3a"
             ],
             [
              0.8888888888888888,
              "#fdca26"
             ],
             [
              1,
              "#f0f921"
             ]
            ],
            "type": "heatmap"
           }
          ],
          "heatmapgl": [
           {
            "colorbar": {
             "outlinewidth": 0,
             "ticks": ""
            },
            "colorscale": [
             [
              0,
              "#0d0887"
             ],
             [
              0.1111111111111111,
              "#46039f"
             ],
             [
              0.2222222222222222,
              "#7201a8"
             ],
             [
              0.3333333333333333,
              "#9c179e"
             ],
             [
              0.4444444444444444,
              "#bd3786"
             ],
             [
              0.5555555555555556,
              "#d8576b"
             ],
             [
              0.6666666666666666,
              "#ed7953"
             ],
             [
              0.7777777777777778,
              "#fb9f3a"
             ],
             [
              0.8888888888888888,
              "#fdca26"
             ],
             [
              1,
              "#f0f921"
             ]
            ],
            "type": "heatmapgl"
           }
          ],
          "histogram": [
           {
            "marker": {
             "pattern": {
              "fillmode": "overlay",
              "size": 10,
              "solidity": 0.2
             }
            },
            "type": "histogram"
           }
          ],
          "histogram2d": [
           {
            "colorbar": {
             "outlinewidth": 0,
             "ticks": ""
            },
            "colorscale": [
             [
              0,
              "#0d0887"
             ],
             [
              0.1111111111111111,
              "#46039f"
             ],
             [
              0.2222222222222222,
              "#7201a8"
             ],
             [
              0.3333333333333333,
              "#9c179e"
             ],
             [
              0.4444444444444444,
              "#bd3786"
             ],
             [
              0.5555555555555556,
              "#d8576b"
             ],
             [
              0.6666666666666666,
              "#ed7953"
             ],
             [
              0.7777777777777778,
              "#fb9f3a"
             ],
             [
              0.8888888888888888,
              "#fdca26"
             ],
             [
              1,
              "#f0f921"
             ]
            ],
            "type": "histogram2d"
           }
          ],
          "histogram2dcontour": [
           {
            "colorbar": {
             "outlinewidth": 0,
             "ticks": ""
            },
            "colorscale": [
             [
              0,
              "#0d0887"
             ],
             [
              0.1111111111111111,
              "#46039f"
             ],
             [
              0.2222222222222222,
              "#7201a8"
             ],
             [
              0.3333333333333333,
              "#9c179e"
             ],
             [
              0.4444444444444444,
              "#bd3786"
             ],
             [
              0.5555555555555556,
              "#d8576b"
             ],
             [
              0.6666666666666666,
              "#ed7953"
             ],
             [
              0.7777777777777778,
              "#fb9f3a"
             ],
             [
              0.8888888888888888,
              "#fdca26"
             ],
             [
              1,
              "#f0f921"
             ]
            ],
            "type": "histogram2dcontour"
           }
          ],
          "mesh3d": [
           {
            "colorbar": {
             "outlinewidth": 0,
             "ticks": ""
            },
            "type": "mesh3d"
           }
          ],
          "parcoords": [
           {
            "line": {
             "colorbar": {
              "outlinewidth": 0,
              "ticks": ""
             }
            },
            "type": "parcoords"
           }
          ],
          "pie": [
           {
            "automargin": true,
            "type": "pie"
           }
          ],
          "scatter": [
           {
            "fillpattern": {
             "fillmode": "overlay",
             "size": 10,
             "solidity": 0.2
            },
            "type": "scatter"
           }
          ],
          "scatter3d": [
           {
            "line": {
             "colorbar": {
              "outlinewidth": 0,
              "ticks": ""
             }
            },
            "marker": {
             "colorbar": {
              "outlinewidth": 0,
              "ticks": ""
             }
            },
            "type": "scatter3d"
           }
          ],
          "scattercarpet": [
           {
            "marker": {
             "colorbar": {
              "outlinewidth": 0,
              "ticks": ""
             }
            },
            "type": "scattercarpet"
           }
          ],
          "scattergeo": [
           {
            "marker": {
             "colorbar": {
              "outlinewidth": 0,
              "ticks": ""
             }
            },
            "type": "scattergeo"
           }
          ],
          "scattergl": [
           {
            "marker": {
             "colorbar": {
              "outlinewidth": 0,
              "ticks": ""
             }
            },
            "type": "scattergl"
           }
          ],
          "scattermapbox": [
           {
            "marker": {
             "colorbar": {
              "outlinewidth": 0,
              "ticks": ""
             }
            },
            "type": "scattermapbox"
           }
          ],
          "scatterpolar": [
           {
            "marker": {
             "colorbar": {
              "outlinewidth": 0,
              "ticks": ""
             }
            },
            "type": "scatterpolar"
           }
          ],
          "scatterpolargl": [
           {
            "marker": {
             "colorbar": {
              "outlinewidth": 0,
              "ticks": ""
             }
            },
            "type": "scatterpolargl"
           }
          ],
          "scatterternary": [
           {
            "marker": {
             "colorbar": {
              "outlinewidth": 0,
              "ticks": ""
             }
            },
            "type": "scatterternary"
           }
          ],
          "surface": [
           {
            "colorbar": {
             "outlinewidth": 0,
             "ticks": ""
            },
            "colorscale": [
             [
              0,
              "#0d0887"
             ],
             [
              0.1111111111111111,
              "#46039f"
             ],
             [
              0.2222222222222222,
              "#7201a8"
             ],
             [
              0.3333333333333333,
              "#9c179e"
             ],
             [
              0.4444444444444444,
              "#bd3786"
             ],
             [
              0.5555555555555556,
              "#d8576b"
             ],
             [
              0.6666666666666666,
              "#ed7953"
             ],
             [
              0.7777777777777778,
              "#fb9f3a"
             ],
             [
              0.8888888888888888,
              "#fdca26"
             ],
             [
              1,
              "#f0f921"
             ]
            ],
            "type": "surface"
           }
          ],
          "table": [
           {
            "cells": {
             "fill": {
              "color": "#EBF0F8"
             },
             "line": {
              "color": "white"
             }
            },
            "header": {
             "fill": {
              "color": "#C8D4E3"
             },
             "line": {
              "color": "white"
             }
            },
            "type": "table"
           }
          ]
         },
         "layout": {
          "annotationdefaults": {
           "arrowcolor": "#2a3f5f",
           "arrowhead": 0,
           "arrowwidth": 1
          },
          "autotypenumbers": "strict",
          "coloraxis": {
           "colorbar": {
            "outlinewidth": 0,
            "ticks": ""
           }
          },
          "colorscale": {
           "diverging": [
            [
             0,
             "#8e0152"
            ],
            [
             0.1,
             "#c51b7d"
            ],
            [
             0.2,
             "#de77ae"
            ],
            [
             0.3,
             "#f1b6da"
            ],
            [
             0.4,
             "#fde0ef"
            ],
            [
             0.5,
             "#f7f7f7"
            ],
            [
             0.6,
             "#e6f5d0"
            ],
            [
             0.7,
             "#b8e186"
            ],
            [
             0.8,
             "#7fbc41"
            ],
            [
             0.9,
             "#4d9221"
            ],
            [
             1,
             "#276419"
            ]
           ],
           "sequential": [
            [
             0,
             "#0d0887"
            ],
            [
             0.1111111111111111,
             "#46039f"
            ],
            [
             0.2222222222222222,
             "#7201a8"
            ],
            [
             0.3333333333333333,
             "#9c179e"
            ],
            [
             0.4444444444444444,
             "#bd3786"
            ],
            [
             0.5555555555555556,
             "#d8576b"
            ],
            [
             0.6666666666666666,
             "#ed7953"
            ],
            [
             0.7777777777777778,
             "#fb9f3a"
            ],
            [
             0.8888888888888888,
             "#fdca26"
            ],
            [
             1,
             "#f0f921"
            ]
           ],
           "sequentialminus": [
            [
             0,
             "#0d0887"
            ],
            [
             0.1111111111111111,
             "#46039f"
            ],
            [
             0.2222222222222222,
             "#7201a8"
            ],
            [
             0.3333333333333333,
             "#9c179e"
            ],
            [
             0.4444444444444444,
             "#bd3786"
            ],
            [
             0.5555555555555556,
             "#d8576b"
            ],
            [
             0.6666666666666666,
             "#ed7953"
            ],
            [
             0.7777777777777778,
             "#fb9f3a"
            ],
            [
             0.8888888888888888,
             "#fdca26"
            ],
            [
             1,
             "#f0f921"
            ]
           ]
          },
          "colorway": [
           "#636efa",
           "#EF553B",
           "#00cc96",
           "#ab63fa",
           "#FFA15A",
           "#19d3f3",
           "#FF6692",
           "#B6E880",
           "#FF97FF",
           "#FECB52"
          ],
          "font": {
           "color": "#2a3f5f"
          },
          "geo": {
           "bgcolor": "white",
           "lakecolor": "white",
           "landcolor": "#E5ECF6",
           "showlakes": true,
           "showland": true,
           "subunitcolor": "white"
          },
          "hoverlabel": {
           "align": "left"
          },
          "hovermode": "closest",
          "mapbox": {
           "style": "light"
          },
          "paper_bgcolor": "white",
          "plot_bgcolor": "#E5ECF6",
          "polar": {
           "angularaxis": {
            "gridcolor": "white",
            "linecolor": "white",
            "ticks": ""
           },
           "bgcolor": "#E5ECF6",
           "radialaxis": {
            "gridcolor": "white",
            "linecolor": "white",
            "ticks": ""
           }
          },
          "scene": {
           "xaxis": {
            "backgroundcolor": "#E5ECF6",
            "gridcolor": "white",
            "gridwidth": 2,
            "linecolor": "white",
            "showbackground": true,
            "ticks": "",
            "zerolinecolor": "white"
           },
           "yaxis": {
            "backgroundcolor": "#E5ECF6",
            "gridcolor": "white",
            "gridwidth": 2,
            "linecolor": "white",
            "showbackground": true,
            "ticks": "",
            "zerolinecolor": "white"
           },
           "zaxis": {
            "backgroundcolor": "#E5ECF6",
            "gridcolor": "white",
            "gridwidth": 2,
            "linecolor": "white",
            "showbackground": true,
            "ticks": "",
            "zerolinecolor": "white"
           }
          },
          "shapedefaults": {
           "line": {
            "color": "#2a3f5f"
           }
          },
          "ternary": {
           "aaxis": {
            "gridcolor": "white",
            "linecolor": "white",
            "ticks": ""
           },
           "baxis": {
            "gridcolor": "white",
            "linecolor": "white",
            "ticks": ""
           },
           "bgcolor": "#E5ECF6",
           "caxis": {
            "gridcolor": "white",
            "linecolor": "white",
            "ticks": ""
           }
          },
          "title": {
           "x": 0.05
          },
          "xaxis": {
           "automargin": true,
           "gridcolor": "white",
           "linecolor": "white",
           "ticks": "",
           "title": {
            "standoff": 15
           },
           "zerolinecolor": "white",
           "zerolinewidth": 2
          },
          "yaxis": {
           "automargin": true,
           "gridcolor": "white",
           "linecolor": "white",
           "ticks": "",
           "title": {
            "standoff": 15
           },
           "zerolinecolor": "white",
           "zerolinewidth": 2
          }
         }
        },
        "xaxis": {
         "anchor": "y",
         "domain": [
          0,
          1
         ],
         "title": {
          "text": "BmiClass"
         }
        },
        "yaxis": {
         "anchor": "x",
         "domain": [
          0,
          1
         ],
         "title": {
          "text": "target"
         }
        }
       }
      }
     },
     "metadata": {},
     "output_type": "display_data"
    }
   ],
   "source": [
    "import plotly.express as px\n",
    "fig = px.density_heatmap(data,x='BmiClass',y='target')\n",
    "fig.show()"
   ]
  },
  {
   "cell_type": "code",
   "execution_count": 7,
   "metadata": {},
   "outputs": [
    {
     "name": "stdout",
     "output_type": "stream",
     "text": [
      "Index(['Age', 'Height', 'Weight', 'Bmi', 'BmiClass', 'dance', 'target'], dtype='object')\n",
      "   Age  Height  Weight        Bmi     BmiClass dance             target\n",
      "0   61    1.85  109.30  31.935720        Obese   yes              Dance\n",
      "1   60    1.71   79.02  27.023700   Overweight   yes              Dance\n",
      "2   60    1.55   74.70  31.092612        Obese    no             Cardio\n",
      "3   60    1.46   35.90  16.841809  Underweight    no  Strength_training\n",
      "4   60    1.58   97.10  38.896010        Obese   yes              Dance\n"
     ]
    }
   ],
   "source": [
    "print(data.columns)\n",
    "print(data.head(5))"
   ]
  },
  {
   "cell_type": "code",
   "execution_count": 8,
   "metadata": {},
   "outputs": [
    {
     "name": "stdout",
     "output_type": "stream",
     "text": [
      "['Obese' 'Overweight' 'Underweight' 'Normal Weight']\n",
      "[1 2 3 0]\n",
      "['yes' 'no']\n",
      "[1 0]\n",
      "['Dance' 'Cardio' 'Strength_training' 'Cardio+strength_training']\n",
      "[2 0 3 1]\n"
     ]
    }
   ],
   "source": [
    "from sklearn import preprocessing \n",
    "# using label_encoders in encode object and string values\n",
    "b= data[\"BmiClass\"]\n",
    "d = data[\"dance\"]\n",
    "t = data[\"target\"]\n",
    "\n",
    "print(b.unique())\n",
    "le = preprocessing.LabelEncoder()\n",
    "le.fit(b)\n",
    "data[\"BmiClass\"] = le.transform(b)\n",
    "print(data[\"BmiClass\"].unique())\n",
    "\n",
    "print(d.unique())\n",
    "le1 = preprocessing.LabelEncoder()\n",
    "le1.fit(d)\n",
    "data[\"dance\"] = le1.transform(d)\n",
    "print(data[\"dance\"].unique())\n",
    "\n",
    "print(t.unique())\n",
    "le2 = preprocessing.LabelEncoder()\n",
    "le2.fit(t)\n",
    "data[\"target\"] = le2.transform(t)\n",
    "print(data[\"target\"].unique())\n",
    "\n"
   ]
  },
  {
   "cell_type": "code",
   "execution_count": 9,
   "metadata": {},
   "outputs": [
    {
     "name": "stdout",
     "output_type": "stream",
     "text": [
      "[[ 61.          1.85      109.3        31.9357195   1.          1.       ]]\n",
      "[2 2]\n",
      "(592, 6)\n",
      "(149, 6)\n",
      "(592,)\n",
      "(149,)\n"
     ]
    }
   ],
   "source": [
    "from sklearn.model_selection import train_test_split\n",
    "from sklearn.linear_model import ElasticNet\n",
    "from sklearn.metrics import mean_squared_error, r2_score\n",
    "from sklearn.metrics import accuracy_score   \n",
    "from sklearn.neural_network import MLPClassifier\n",
    "\n",
    "x = data.iloc[:, :-1].values\n",
    "y = data.iloc[:, -1].values\n",
    "\n",
    "x = np.array(x)\n",
    "y = np.array(y)\n",
    "\n",
    "print(x[:1])\n",
    "print(y[:2])\n",
    "x_train, x_test, y_train, y_test = train_test_split(\n",
    "    x, y, test_size=0.20, random_state=0)\n",
    "\n",
    "print(x_train.shape)\n",
    "print(x_test.shape)\n",
    "print(y_train.shape)\n",
    "print(y_test.shape)\n"
   ]
  },
  {
   "cell_type": "code",
   "execution_count": 10,
   "metadata": {},
   "outputs": [
    {
     "data": {
      "text/html": [
       "<style type=\"text/css\">\n",
       "#T_205d0_row8_col1 {\n",
       "  background-color: lightgreen;\n",
       "}\n",
       "</style>\n",
       "<table id=\"T_205d0\">\n",
       "  <thead>\n",
       "    <tr>\n",
       "      <th class=\"blank level0\" >&nbsp;</th>\n",
       "      <th id=\"T_205d0_level0_col0\" class=\"col_heading level0 col0\" >Description</th>\n",
       "      <th id=\"T_205d0_level0_col1\" class=\"col_heading level0 col1\" >Value</th>\n",
       "    </tr>\n",
       "  </thead>\n",
       "  <tbody>\n",
       "    <tr>\n",
       "      <th id=\"T_205d0_level0_row0\" class=\"row_heading level0 row0\" >0</th>\n",
       "      <td id=\"T_205d0_row0_col0\" class=\"data row0 col0\" >Session id</td>\n",
       "      <td id=\"T_205d0_row0_col1\" class=\"data row0 col1\" >5601</td>\n",
       "    </tr>\n",
       "    <tr>\n",
       "      <th id=\"T_205d0_level0_row1\" class=\"row_heading level0 row1\" >1</th>\n",
       "      <td id=\"T_205d0_row1_col0\" class=\"data row1 col0\" >Target</td>\n",
       "      <td id=\"T_205d0_row1_col1\" class=\"data row1 col1\" >target</td>\n",
       "    </tr>\n",
       "    <tr>\n",
       "      <th id=\"T_205d0_level0_row2\" class=\"row_heading level0 row2\" >2</th>\n",
       "      <td id=\"T_205d0_row2_col0\" class=\"data row2 col0\" >Target type</td>\n",
       "      <td id=\"T_205d0_row2_col1\" class=\"data row2 col1\" >Multiclass</td>\n",
       "    </tr>\n",
       "    <tr>\n",
       "      <th id=\"T_205d0_level0_row3\" class=\"row_heading level0 row3\" >3</th>\n",
       "      <td id=\"T_205d0_row3_col0\" class=\"data row3 col0\" >Original data shape</td>\n",
       "      <td id=\"T_205d0_row3_col1\" class=\"data row3 col1\" >(741, 7)</td>\n",
       "    </tr>\n",
       "    <tr>\n",
       "      <th id=\"T_205d0_level0_row4\" class=\"row_heading level0 row4\" >4</th>\n",
       "      <td id=\"T_205d0_row4_col0\" class=\"data row4 col0\" >Transformed data shape</td>\n",
       "      <td id=\"T_205d0_row4_col1\" class=\"data row4 col1\" >(741, 7)</td>\n",
       "    </tr>\n",
       "    <tr>\n",
       "      <th id=\"T_205d0_level0_row5\" class=\"row_heading level0 row5\" >5</th>\n",
       "      <td id=\"T_205d0_row5_col0\" class=\"data row5 col0\" >Transformed train set shape</td>\n",
       "      <td id=\"T_205d0_row5_col1\" class=\"data row5 col1\" >(518, 7)</td>\n",
       "    </tr>\n",
       "    <tr>\n",
       "      <th id=\"T_205d0_level0_row6\" class=\"row_heading level0 row6\" >6</th>\n",
       "      <td id=\"T_205d0_row6_col0\" class=\"data row6 col0\" >Transformed test set shape</td>\n",
       "      <td id=\"T_205d0_row6_col1\" class=\"data row6 col1\" >(223, 7)</td>\n",
       "    </tr>\n",
       "    <tr>\n",
       "      <th id=\"T_205d0_level0_row7\" class=\"row_heading level0 row7\" >7</th>\n",
       "      <td id=\"T_205d0_row7_col0\" class=\"data row7 col0\" >Numeric features</td>\n",
       "      <td id=\"T_205d0_row7_col1\" class=\"data row7 col1\" >6</td>\n",
       "    </tr>\n",
       "    <tr>\n",
       "      <th id=\"T_205d0_level0_row8\" class=\"row_heading level0 row8\" >8</th>\n",
       "      <td id=\"T_205d0_row8_col0\" class=\"data row8 col0\" >Preprocess</td>\n",
       "      <td id=\"T_205d0_row8_col1\" class=\"data row8 col1\" >True</td>\n",
       "    </tr>\n",
       "    <tr>\n",
       "      <th id=\"T_205d0_level0_row9\" class=\"row_heading level0 row9\" >9</th>\n",
       "      <td id=\"T_205d0_row9_col0\" class=\"data row9 col0\" >Imputation type</td>\n",
       "      <td id=\"T_205d0_row9_col1\" class=\"data row9 col1\" >simple</td>\n",
       "    </tr>\n",
       "    <tr>\n",
       "      <th id=\"T_205d0_level0_row10\" class=\"row_heading level0 row10\" >10</th>\n",
       "      <td id=\"T_205d0_row10_col0\" class=\"data row10 col0\" >Numeric imputation</td>\n",
       "      <td id=\"T_205d0_row10_col1\" class=\"data row10 col1\" >mean</td>\n",
       "    </tr>\n",
       "    <tr>\n",
       "      <th id=\"T_205d0_level0_row11\" class=\"row_heading level0 row11\" >11</th>\n",
       "      <td id=\"T_205d0_row11_col0\" class=\"data row11 col0\" >Categorical imputation</td>\n",
       "      <td id=\"T_205d0_row11_col1\" class=\"data row11 col1\" >mode</td>\n",
       "    </tr>\n",
       "    <tr>\n",
       "      <th id=\"T_205d0_level0_row12\" class=\"row_heading level0 row12\" >12</th>\n",
       "      <td id=\"T_205d0_row12_col0\" class=\"data row12 col0\" >Fold Generator</td>\n",
       "      <td id=\"T_205d0_row12_col1\" class=\"data row12 col1\" >StratifiedKFold</td>\n",
       "    </tr>\n",
       "    <tr>\n",
       "      <th id=\"T_205d0_level0_row13\" class=\"row_heading level0 row13\" >13</th>\n",
       "      <td id=\"T_205d0_row13_col0\" class=\"data row13 col0\" >Fold Number</td>\n",
       "      <td id=\"T_205d0_row13_col1\" class=\"data row13 col1\" >10</td>\n",
       "    </tr>\n",
       "    <tr>\n",
       "      <th id=\"T_205d0_level0_row14\" class=\"row_heading level0 row14\" >14</th>\n",
       "      <td id=\"T_205d0_row14_col0\" class=\"data row14 col0\" >CPU Jobs</td>\n",
       "      <td id=\"T_205d0_row14_col1\" class=\"data row14 col1\" >-1</td>\n",
       "    </tr>\n",
       "    <tr>\n",
       "      <th id=\"T_205d0_level0_row15\" class=\"row_heading level0 row15\" >15</th>\n",
       "      <td id=\"T_205d0_row15_col0\" class=\"data row15 col0\" >Use GPU</td>\n",
       "      <td id=\"T_205d0_row15_col1\" class=\"data row15 col1\" >False</td>\n",
       "    </tr>\n",
       "    <tr>\n",
       "      <th id=\"T_205d0_level0_row16\" class=\"row_heading level0 row16\" >16</th>\n",
       "      <td id=\"T_205d0_row16_col0\" class=\"data row16 col0\" >Log Experiment</td>\n",
       "      <td id=\"T_205d0_row16_col1\" class=\"data row16 col1\" >False</td>\n",
       "    </tr>\n",
       "    <tr>\n",
       "      <th id=\"T_205d0_level0_row17\" class=\"row_heading level0 row17\" >17</th>\n",
       "      <td id=\"T_205d0_row17_col0\" class=\"data row17 col0\" >Experiment Name</td>\n",
       "      <td id=\"T_205d0_row17_col1\" class=\"data row17 col1\" >clf-default-name</td>\n",
       "    </tr>\n",
       "    <tr>\n",
       "      <th id=\"T_205d0_level0_row18\" class=\"row_heading level0 row18\" >18</th>\n",
       "      <td id=\"T_205d0_row18_col0\" class=\"data row18 col0\" >USI</td>\n",
       "      <td id=\"T_205d0_row18_col1\" class=\"data row18 col1\" >b6f5</td>\n",
       "    </tr>\n",
       "  </tbody>\n",
       "</table>\n"
      ],
      "text/plain": [
       "<pandas.io.formats.style.Styler at 0x13489929bd0>"
      ]
     },
     "metadata": {},
     "output_type": "display_data"
    },
    {
     "data": {
      "text/html": [],
      "text/plain": [
       "<IPython.core.display.HTML object>"
      ]
     },
     "metadata": {},
     "output_type": "display_data"
    },
    {
     "data": {
      "text/html": [
       "<style type=\"text/css\">\n",
       "#T_06c75 th {\n",
       "  text-align: left;\n",
       "}\n",
       "#T_06c75_row0_col0, #T_06c75_row1_col0, #T_06c75_row2_col0, #T_06c75_row2_col1, #T_06c75_row2_col2, #T_06c75_row2_col3, #T_06c75_row2_col4, #T_06c75_row2_col5, #T_06c75_row2_col6, #T_06c75_row2_col7, #T_06c75_row3_col0, #T_06c75_row3_col1, #T_06c75_row3_col2, #T_06c75_row3_col3, #T_06c75_row3_col4, #T_06c75_row3_col5, #T_06c75_row3_col6, #T_06c75_row3_col7, #T_06c75_row4_col0, #T_06c75_row4_col1, #T_06c75_row4_col3, #T_06c75_row4_col4, #T_06c75_row4_col5, #T_06c75_row4_col6, #T_06c75_row4_col7, #T_06c75_row5_col0, #T_06c75_row5_col1, #T_06c75_row5_col2, #T_06c75_row5_col3, #T_06c75_row5_col4, #T_06c75_row5_col5, #T_06c75_row5_col6, #T_06c75_row5_col7, #T_06c75_row6_col0, #T_06c75_row6_col1, #T_06c75_row6_col3, #T_06c75_row6_col4, #T_06c75_row6_col5, #T_06c75_row6_col6, #T_06c75_row6_col7, #T_06c75_row7_col0, #T_06c75_row7_col1, #T_06c75_row7_col3, #T_06c75_row7_col4, #T_06c75_row7_col5, #T_06c75_row7_col6, #T_06c75_row7_col7, #T_06c75_row8_col0, #T_06c75_row8_col1, #T_06c75_row8_col3, #T_06c75_row8_col4, #T_06c75_row8_col5, #T_06c75_row8_col6, #T_06c75_row8_col7, #T_06c75_row9_col0, #T_06c75_row9_col1, #T_06c75_row9_col2, #T_06c75_row9_col3, #T_06c75_row9_col4, #T_06c75_row9_col5, #T_06c75_row9_col6, #T_06c75_row9_col7, #T_06c75_row10_col0, #T_06c75_row10_col1, #T_06c75_row10_col2, #T_06c75_row10_col3, #T_06c75_row10_col4, #T_06c75_row10_col5, #T_06c75_row10_col6, #T_06c75_row10_col7, #T_06c75_row11_col0, #T_06c75_row11_col1, #T_06c75_row11_col2, #T_06c75_row11_col3, #T_06c75_row11_col4, #T_06c75_row11_col5, #T_06c75_row11_col6, #T_06c75_row11_col7, #T_06c75_row12_col0, #T_06c75_row12_col1, #T_06c75_row12_col2, #T_06c75_row12_col3, #T_06c75_row12_col4, #T_06c75_row12_col5, #T_06c75_row12_col6, #T_06c75_row12_col7, #T_06c75_row13_col0, #T_06c75_row13_col1, #T_06c75_row13_col2, #T_06c75_row13_col3, #T_06c75_row13_col4, #T_06c75_row13_col5, #T_06c75_row13_col6, #T_06c75_row13_col7, #T_06c75_row14_col0, #T_06c75_row14_col1, #T_06c75_row14_col2, #T_06c75_row14_col3, #T_06c75_row14_col4, #T_06c75_row14_col5, #T_06c75_row14_col6, #T_06c75_row14_col7, #T_06c75_row15_col0, #T_06c75_row15_col1, #T_06c75_row15_col2, #T_06c75_row15_col3, #T_06c75_row15_col4, #T_06c75_row15_col5, #T_06c75_row15_col6, #T_06c75_row15_col7 {\n",
       "  text-align: left;\n",
       "}\n",
       "#T_06c75_row0_col1, #T_06c75_row0_col2, #T_06c75_row0_col3, #T_06c75_row0_col4, #T_06c75_row0_col5, #T_06c75_row0_col6, #T_06c75_row0_col7, #T_06c75_row1_col1, #T_06c75_row1_col2, #T_06c75_row1_col3, #T_06c75_row1_col4, #T_06c75_row1_col5, #T_06c75_row1_col6, #T_06c75_row1_col7, #T_06c75_row4_col2, #T_06c75_row6_col2, #T_06c75_row7_col2, #T_06c75_row8_col2 {\n",
       "  text-align: left;\n",
       "  background-color: yellow;\n",
       "}\n",
       "#T_06c75_row0_col8, #T_06c75_row1_col8, #T_06c75_row2_col8, #T_06c75_row3_col8, #T_06c75_row4_col8, #T_06c75_row5_col8, #T_06c75_row6_col8, #T_06c75_row7_col8, #T_06c75_row8_col8, #T_06c75_row9_col8, #T_06c75_row11_col8, #T_06c75_row12_col8, #T_06c75_row14_col8, #T_06c75_row15_col8 {\n",
       "  text-align: left;\n",
       "  background-color: lightgrey;\n",
       "}\n",
       "#T_06c75_row10_col8, #T_06c75_row13_col8 {\n",
       "  text-align: left;\n",
       "  background-color: yellow;\n",
       "  background-color: lightgrey;\n",
       "}\n",
       "</style>\n",
       "<table id=\"T_06c75\">\n",
       "  <thead>\n",
       "    <tr>\n",
       "      <th class=\"blank level0\" >&nbsp;</th>\n",
       "      <th id=\"T_06c75_level0_col0\" class=\"col_heading level0 col0\" >Model</th>\n",
       "      <th id=\"T_06c75_level0_col1\" class=\"col_heading level0 col1\" >Accuracy</th>\n",
       "      <th id=\"T_06c75_level0_col2\" class=\"col_heading level0 col2\" >AUC</th>\n",
       "      <th id=\"T_06c75_level0_col3\" class=\"col_heading level0 col3\" >Recall</th>\n",
       "      <th id=\"T_06c75_level0_col4\" class=\"col_heading level0 col4\" >Prec.</th>\n",
       "      <th id=\"T_06c75_level0_col5\" class=\"col_heading level0 col5\" >F1</th>\n",
       "      <th id=\"T_06c75_level0_col6\" class=\"col_heading level0 col6\" >Kappa</th>\n",
       "      <th id=\"T_06c75_level0_col7\" class=\"col_heading level0 col7\" >MCC</th>\n",
       "      <th id=\"T_06c75_level0_col8\" class=\"col_heading level0 col8\" >TT (Sec)</th>\n",
       "    </tr>\n",
       "  </thead>\n",
       "  <tbody>\n",
       "    <tr>\n",
       "      <th id=\"T_06c75_level0_row0\" class=\"row_heading level0 row0\" >nb</th>\n",
       "      <td id=\"T_06c75_row0_col0\" class=\"data row0 col0\" >Naive Bayes</td>\n",
       "      <td id=\"T_06c75_row0_col1\" class=\"data row0 col1\" >1.0000</td>\n",
       "      <td id=\"T_06c75_row0_col2\" class=\"data row0 col2\" >1.0000</td>\n",
       "      <td id=\"T_06c75_row0_col3\" class=\"data row0 col3\" >1.0000</td>\n",
       "      <td id=\"T_06c75_row0_col4\" class=\"data row0 col4\" >1.0000</td>\n",
       "      <td id=\"T_06c75_row0_col5\" class=\"data row0 col5\" >1.0000</td>\n",
       "      <td id=\"T_06c75_row0_col6\" class=\"data row0 col6\" >1.0000</td>\n",
       "      <td id=\"T_06c75_row0_col7\" class=\"data row0 col7\" >1.0000</td>\n",
       "      <td id=\"T_06c75_row0_col8\" class=\"data row0 col8\" >0.0100</td>\n",
       "    </tr>\n",
       "    <tr>\n",
       "      <th id=\"T_06c75_level0_row1\" class=\"row_heading level0 row1\" >et</th>\n",
       "      <td id=\"T_06c75_row1_col0\" class=\"data row1 col0\" >Extra Trees Classifier</td>\n",
       "      <td id=\"T_06c75_row1_col1\" class=\"data row1 col1\" >1.0000</td>\n",
       "      <td id=\"T_06c75_row1_col2\" class=\"data row1 col2\" >1.0000</td>\n",
       "      <td id=\"T_06c75_row1_col3\" class=\"data row1 col3\" >1.0000</td>\n",
       "      <td id=\"T_06c75_row1_col4\" class=\"data row1 col4\" >1.0000</td>\n",
       "      <td id=\"T_06c75_row1_col5\" class=\"data row1 col5\" >1.0000</td>\n",
       "      <td id=\"T_06c75_row1_col6\" class=\"data row1 col6\" >1.0000</td>\n",
       "      <td id=\"T_06c75_row1_col7\" class=\"data row1 col7\" >1.0000</td>\n",
       "      <td id=\"T_06c75_row1_col8\" class=\"data row1 col8\" >0.0410</td>\n",
       "    </tr>\n",
       "    <tr>\n",
       "      <th id=\"T_06c75_level0_row2\" class=\"row_heading level0 row2\" >lr</th>\n",
       "      <td id=\"T_06c75_row2_col0\" class=\"data row2 col0\" >Logistic Regression</td>\n",
       "      <td id=\"T_06c75_row2_col1\" class=\"data row2 col1\" >0.9981</td>\n",
       "      <td id=\"T_06c75_row2_col2\" class=\"data row2 col2\" >0.9999</td>\n",
       "      <td id=\"T_06c75_row2_col3\" class=\"data row2 col3\" >0.9981</td>\n",
       "      <td id=\"T_06c75_row2_col4\" class=\"data row2 col4\" >0.9982</td>\n",
       "      <td id=\"T_06c75_row2_col5\" class=\"data row2 col5\" >0.9979</td>\n",
       "      <td id=\"T_06c75_row2_col6\" class=\"data row2 col6\" >0.9963</td>\n",
       "      <td id=\"T_06c75_row2_col7\" class=\"data row2 col7\" >0.9964</td>\n",
       "      <td id=\"T_06c75_row2_col8\" class=\"data row2 col8\" >0.6900</td>\n",
       "    </tr>\n",
       "    <tr>\n",
       "      <th id=\"T_06c75_level0_row3\" class=\"row_heading level0 row3\" >dt</th>\n",
       "      <td id=\"T_06c75_row3_col0\" class=\"data row3 col0\" >Decision Tree Classifier</td>\n",
       "      <td id=\"T_06c75_row3_col1\" class=\"data row3 col1\" >0.9981</td>\n",
       "      <td id=\"T_06c75_row3_col2\" class=\"data row3 col2\" >0.9987</td>\n",
       "      <td id=\"T_06c75_row3_col3\" class=\"data row3 col3\" >0.9981</td>\n",
       "      <td id=\"T_06c75_row3_col4\" class=\"data row3 col4\" >0.9982</td>\n",
       "      <td id=\"T_06c75_row3_col5\" class=\"data row3 col5\" >0.9979</td>\n",
       "      <td id=\"T_06c75_row3_col6\" class=\"data row3 col6\" >0.9963</td>\n",
       "      <td id=\"T_06c75_row3_col7\" class=\"data row3 col7\" >0.9964</td>\n",
       "      <td id=\"T_06c75_row3_col8\" class=\"data row3 col8\" >0.0110</td>\n",
       "    </tr>\n",
       "    <tr>\n",
       "      <th id=\"T_06c75_level0_row4\" class=\"row_heading level0 row4\" >rf</th>\n",
       "      <td id=\"T_06c75_row4_col0\" class=\"data row4 col0\" >Random Forest Classifier</td>\n",
       "      <td id=\"T_06c75_row4_col1\" class=\"data row4 col1\" >0.9981</td>\n",
       "      <td id=\"T_06c75_row4_col2\" class=\"data row4 col2\" >1.0000</td>\n",
       "      <td id=\"T_06c75_row4_col3\" class=\"data row4 col3\" >0.9981</td>\n",
       "      <td id=\"T_06c75_row4_col4\" class=\"data row4 col4\" >0.9982</td>\n",
       "      <td id=\"T_06c75_row4_col5\" class=\"data row4 col5\" >0.9979</td>\n",
       "      <td id=\"T_06c75_row4_col6\" class=\"data row4 col6\" >0.9963</td>\n",
       "      <td id=\"T_06c75_row4_col7\" class=\"data row4 col7\" >0.9964</td>\n",
       "      <td id=\"T_06c75_row4_col8\" class=\"data row4 col8\" >0.0480</td>\n",
       "    </tr>\n",
       "    <tr>\n",
       "      <th id=\"T_06c75_level0_row5\" class=\"row_heading level0 row5\" >gbc</th>\n",
       "      <td id=\"T_06c75_row5_col0\" class=\"data row5 col0\" >Gradient Boosting Classifier</td>\n",
       "      <td id=\"T_06c75_row5_col1\" class=\"data row5 col1\" >0.9981</td>\n",
       "      <td id=\"T_06c75_row5_col2\" class=\"data row5 col2\" >0.9993</td>\n",
       "      <td id=\"T_06c75_row5_col3\" class=\"data row5 col3\" >0.9981</td>\n",
       "      <td id=\"T_06c75_row5_col4\" class=\"data row5 col4\" >0.9982</td>\n",
       "      <td id=\"T_06c75_row5_col5\" class=\"data row5 col5\" >0.9979</td>\n",
       "      <td id=\"T_06c75_row5_col6\" class=\"data row5 col6\" >0.9963</td>\n",
       "      <td id=\"T_06c75_row5_col7\" class=\"data row5 col7\" >0.9964</td>\n",
       "      <td id=\"T_06c75_row5_col8\" class=\"data row5 col8\" >0.0810</td>\n",
       "    </tr>\n",
       "    <tr>\n",
       "      <th id=\"T_06c75_level0_row6\" class=\"row_heading level0 row6\" >xgboost</th>\n",
       "      <td id=\"T_06c75_row6_col0\" class=\"data row6 col0\" >Extreme Gradient Boosting</td>\n",
       "      <td id=\"T_06c75_row6_col1\" class=\"data row6 col1\" >0.9981</td>\n",
       "      <td id=\"T_06c75_row6_col2\" class=\"data row6 col2\" >1.0000</td>\n",
       "      <td id=\"T_06c75_row6_col3\" class=\"data row6 col3\" >0.9981</td>\n",
       "      <td id=\"T_06c75_row6_col4\" class=\"data row6 col4\" >0.9982</td>\n",
       "      <td id=\"T_06c75_row6_col5\" class=\"data row6 col5\" >0.9979</td>\n",
       "      <td id=\"T_06c75_row6_col6\" class=\"data row6 col6\" >0.9963</td>\n",
       "      <td id=\"T_06c75_row6_col7\" class=\"data row6 col7\" >0.9964</td>\n",
       "      <td id=\"T_06c75_row6_col8\" class=\"data row6 col8\" >0.1530</td>\n",
       "    </tr>\n",
       "    <tr>\n",
       "      <th id=\"T_06c75_level0_row7\" class=\"row_heading level0 row7\" >lightgbm</th>\n",
       "      <td id=\"T_06c75_row7_col0\" class=\"data row7 col0\" >Light Gradient Boosting Machine</td>\n",
       "      <td id=\"T_06c75_row7_col1\" class=\"data row7 col1\" >0.9981</td>\n",
       "      <td id=\"T_06c75_row7_col2\" class=\"data row7 col2\" >1.0000</td>\n",
       "      <td id=\"T_06c75_row7_col3\" class=\"data row7 col3\" >0.9981</td>\n",
       "      <td id=\"T_06c75_row7_col4\" class=\"data row7 col4\" >0.9986</td>\n",
       "      <td id=\"T_06c75_row7_col5\" class=\"data row7 col5\" >0.9982</td>\n",
       "      <td id=\"T_06c75_row7_col6\" class=\"data row7 col6\" >0.9964</td>\n",
       "      <td id=\"T_06c75_row7_col7\" class=\"data row7 col7\" >0.9965</td>\n",
       "      <td id=\"T_06c75_row7_col8\" class=\"data row7 col8\" >0.1370</td>\n",
       "    </tr>\n",
       "    <tr>\n",
       "      <th id=\"T_06c75_level0_row8\" class=\"row_heading level0 row8\" >catboost</th>\n",
       "      <td id=\"T_06c75_row8_col0\" class=\"data row8 col0\" >CatBoost Classifier</td>\n",
       "      <td id=\"T_06c75_row8_col1\" class=\"data row8 col1\" >0.9981</td>\n",
       "      <td id=\"T_06c75_row8_col2\" class=\"data row8 col2\" >1.0000</td>\n",
       "      <td id=\"T_06c75_row8_col3\" class=\"data row8 col3\" >0.9981</td>\n",
       "      <td id=\"T_06c75_row8_col4\" class=\"data row8 col4\" >0.9986</td>\n",
       "      <td id=\"T_06c75_row8_col5\" class=\"data row8 col5\" >0.9982</td>\n",
       "      <td id=\"T_06c75_row8_col6\" class=\"data row8 col6\" >0.9964</td>\n",
       "      <td id=\"T_06c75_row8_col7\" class=\"data row8 col7\" >0.9965</td>\n",
       "      <td id=\"T_06c75_row8_col8\" class=\"data row8 col8\" >1.5370</td>\n",
       "    </tr>\n",
       "    <tr>\n",
       "      <th id=\"T_06c75_level0_row9\" class=\"row_heading level0 row9\" >ada</th>\n",
       "      <td id=\"T_06c75_row9_col0\" class=\"data row9 col0\" >Ada Boost Classifier</td>\n",
       "      <td id=\"T_06c75_row9_col1\" class=\"data row9 col1\" >0.9440</td>\n",
       "      <td id=\"T_06c75_row9_col2\" class=\"data row9 col2\" >0.9841</td>\n",
       "      <td id=\"T_06c75_row9_col3\" class=\"data row9 col3\" >0.9440</td>\n",
       "      <td id=\"T_06c75_row9_col4\" class=\"data row9 col4\" >0.8987</td>\n",
       "      <td id=\"T_06c75_row9_col5\" class=\"data row9 col5\" >0.9190</td>\n",
       "      <td id=\"T_06c75_row9_col6\" class=\"data row9 col6\" >0.8916</td>\n",
       "      <td id=\"T_06c75_row9_col7\" class=\"data row9 col7\" >0.8974</td>\n",
       "      <td id=\"T_06c75_row9_col8\" class=\"data row9 col8\" >0.0310</td>\n",
       "    </tr>\n",
       "    <tr>\n",
       "      <th id=\"T_06c75_level0_row10\" class=\"row_heading level0 row10\" >ridge</th>\n",
       "      <td id=\"T_06c75_row10_col0\" class=\"data row10 col0\" >Ridge Classifier</td>\n",
       "      <td id=\"T_06c75_row10_col1\" class=\"data row10 col1\" >0.9073</td>\n",
       "      <td id=\"T_06c75_row10_col2\" class=\"data row10 col2\" >0.0000</td>\n",
       "      <td id=\"T_06c75_row10_col3\" class=\"data row10 col3\" >0.9073</td>\n",
       "      <td id=\"T_06c75_row10_col4\" class=\"data row10 col4\" >0.8717</td>\n",
       "      <td id=\"T_06c75_row10_col5\" class=\"data row10 col5\" >0.8779</td>\n",
       "      <td id=\"T_06c75_row10_col6\" class=\"data row10 col6\" >0.8183</td>\n",
       "      <td id=\"T_06c75_row10_col7\" class=\"data row10 col7\" >0.8301</td>\n",
       "      <td id=\"T_06c75_row10_col8\" class=\"data row10 col8\" >0.0090</td>\n",
       "    </tr>\n",
       "    <tr>\n",
       "      <th id=\"T_06c75_level0_row11\" class=\"row_heading level0 row11\" >knn</th>\n",
       "      <td id=\"T_06c75_row11_col0\" class=\"data row11 col0\" >K Neighbors Classifier</td>\n",
       "      <td id=\"T_06c75_row11_col1\" class=\"data row11 col1\" >0.8033</td>\n",
       "      <td id=\"T_06c75_row11_col2\" class=\"data row11 col2\" >0.8956</td>\n",
       "      <td id=\"T_06c75_row11_col3\" class=\"data row11 col3\" >0.8033</td>\n",
       "      <td id=\"T_06c75_row11_col4\" class=\"data row11 col4\" >0.8013</td>\n",
       "      <td id=\"T_06c75_row11_col5\" class=\"data row11 col5\" >0.7942</td>\n",
       "      <td id=\"T_06c75_row11_col6\" class=\"data row11 col6\" >0.6140</td>\n",
       "      <td id=\"T_06c75_row11_col7\" class=\"data row11 col7\" >0.6199</td>\n",
       "      <td id=\"T_06c75_row11_col8\" class=\"data row11 col8\" >0.3410</td>\n",
       "    </tr>\n",
       "    <tr>\n",
       "      <th id=\"T_06c75_level0_row12\" class=\"row_heading level0 row12\" >svm</th>\n",
       "      <td id=\"T_06c75_row12_col0\" class=\"data row12 col0\" >SVM - Linear Kernel</td>\n",
       "      <td id=\"T_06c75_row12_col1\" class=\"data row12 col1\" >0.7218</td>\n",
       "      <td id=\"T_06c75_row12_col2\" class=\"data row12 col2\" >0.0000</td>\n",
       "      <td id=\"T_06c75_row12_col3\" class=\"data row12 col3\" >0.7218</td>\n",
       "      <td id=\"T_06c75_row12_col4\" class=\"data row12 col4\" >0.6771</td>\n",
       "      <td id=\"T_06c75_row12_col5\" class=\"data row12 col5\" >0.6810</td>\n",
       "      <td id=\"T_06c75_row12_col6\" class=\"data row12 col6\" >0.5139</td>\n",
       "      <td id=\"T_06c75_row12_col7\" class=\"data row12 col7\" >0.5362</td>\n",
       "      <td id=\"T_06c75_row12_col8\" class=\"data row12 col8\" >0.0120</td>\n",
       "    </tr>\n",
       "    <tr>\n",
       "      <th id=\"T_06c75_level0_row13\" class=\"row_heading level0 row13\" >dummy</th>\n",
       "      <td id=\"T_06c75_row13_col0\" class=\"data row13 col0\" >Dummy Classifier</td>\n",
       "      <td id=\"T_06c75_row13_col1\" class=\"data row13 col1\" >0.6390</td>\n",
       "      <td id=\"T_06c75_row13_col2\" class=\"data row13 col2\" >0.5000</td>\n",
       "      <td id=\"T_06c75_row13_col3\" class=\"data row13 col3\" >0.6390</td>\n",
       "      <td id=\"T_06c75_row13_col4\" class=\"data row13 col4\" >0.4084</td>\n",
       "      <td id=\"T_06c75_row13_col5\" class=\"data row13 col5\" >0.4983</td>\n",
       "      <td id=\"T_06c75_row13_col6\" class=\"data row13 col6\" >0.0000</td>\n",
       "      <td id=\"T_06c75_row13_col7\" class=\"data row13 col7\" >0.0000</td>\n",
       "      <td id=\"T_06c75_row13_col8\" class=\"data row13 col8\" >0.0090</td>\n",
       "    </tr>\n",
       "    <tr>\n",
       "      <th id=\"T_06c75_level0_row14\" class=\"row_heading level0 row14\" >lda</th>\n",
       "      <td id=\"T_06c75_row14_col0\" class=\"data row14 col0\" >Linear Discriminant Analysis</td>\n",
       "      <td id=\"T_06c75_row14_col1\" class=\"data row14 col1\" >0.6215</td>\n",
       "      <td id=\"T_06c75_row14_col2\" class=\"data row14 col2\" >0.6982</td>\n",
       "      <td id=\"T_06c75_row14_col3\" class=\"data row14 col3\" >0.6215</td>\n",
       "      <td id=\"T_06c75_row14_col4\" class=\"data row14 col4\" >0.4715</td>\n",
       "      <td id=\"T_06c75_row14_col5\" class=\"data row14 col5\" >0.5343</td>\n",
       "      <td id=\"T_06c75_row14_col6\" class=\"data row14 col6\" >0.1719</td>\n",
       "      <td id=\"T_06c75_row14_col7\" class=\"data row14 col7\" >0.2012</td>\n",
       "      <td id=\"T_06c75_row14_col8\" class=\"data row14 col8\" >0.0330</td>\n",
       "    </tr>\n",
       "    <tr>\n",
       "      <th id=\"T_06c75_level0_row15\" class=\"row_heading level0 row15\" >qda</th>\n",
       "      <td id=\"T_06c75_row15_col0\" class=\"data row15 col0\" >Quadratic Discriminant Analysis</td>\n",
       "      <td id=\"T_06c75_row15_col1\" class=\"data row15 col1\" >0.0560</td>\n",
       "      <td id=\"T_06c75_row15_col2\" class=\"data row15 col2\" >0.0000</td>\n",
       "      <td id=\"T_06c75_row15_col3\" class=\"data row15 col3\" >0.0560</td>\n",
       "      <td id=\"T_06c75_row15_col4\" class=\"data row15 col4\" >0.0032</td>\n",
       "      <td id=\"T_06c75_row15_col5\" class=\"data row15 col5\" >0.0060</td>\n",
       "      <td id=\"T_06c75_row15_col6\" class=\"data row15 col6\" >0.0000</td>\n",
       "      <td id=\"T_06c75_row15_col7\" class=\"data row15 col7\" >0.0000</td>\n",
       "      <td id=\"T_06c75_row15_col8\" class=\"data row15 col8\" >0.0110</td>\n",
       "    </tr>\n",
       "  </tbody>\n",
       "</table>\n"
      ],
      "text/plain": [
       "<pandas.io.formats.style.Styler at 0x134ea3ae260>"
      ]
     },
     "metadata": {},
     "output_type": "display_data"
    },
    {
     "data": {
      "application/vnd.jupyter.widget-view+json": {
       "model_id": "373817fd015d432a99545ba4d39f78e8",
       "version_major": 2,
       "version_minor": 0
      },
      "text/plain": [
       "Processing:   0%|          | 0/69 [00:00<?, ?it/s]"
      ]
     },
     "metadata": {},
     "output_type": "display_data"
    }
   ],
   "source": [
    "from pycaret.classification import setup\n",
    "from pycaret.classification import compare_models\n",
    "grid = setup(data=data, target=data.columns[-1], html=True,verbose=True)\n",
    "best = compare_models()\n"
   ]
  },
  {
   "cell_type": "code",
   "execution_count": 20,
   "metadata": {},
   "outputs": [
    {
     "data": {
      "image/png": "[encoded data removed]",
      "text/plain": [
       "<Figure size 432x288 with 1 Axes>"
      ]
     },
     "metadata": {
      "needs_background": "light"
     },
     "output_type": "display_data"
    },
    {
     "name": "stdout",
     "output_type": "stream",
     "text": [
      "Classification Report:\n",
      "               precision    recall  f1-score   support\n",
      "\n",
      "           0       0.00      0.00      0.00        11\n",
      "           1       0.77      1.00      0.87        36\n",
      "           2       1.00      1.00      1.00        92\n",
      "           3       1.00      1.00      1.00        10\n",
      "\n",
      "    accuracy                           0.93       149\n",
      "   macro avg       0.69      0.75      0.72       149\n",
      "weighted avg       0.87      0.93      0.89       149\n",
      "\n",
      "prediction accuracy is: 92.607450\n",
      "Time consumed for training: 0.115\n",
      "Time consumed for prediction: 0.00876 seconds\n",
      "Mean Absolute Error: 0.0738255033557047\n",
      "Mean Squared Error: 0.0738255033557047\n",
      "Root Mean Squared Error: 0.27170848966439143\n"
     ]
    },
    {
     "data": {
      "text/plain": [
       "['model.pkl']"
      ]
     },
     "execution_count": 20,
     "metadata": {},
     "output_type": "execute_result"
    }
   ],
   "source": [
    "from sklearn.ensemble import AdaBoostClassifier\n",
    "from sklearn.metrics import accuracy_score,classification_report\n",
    "import joblib\n",
    "\n",
    "import scikitplot.estimators as esti\n",
    "from sklearn import metrics\n",
    "\n",
    "et = AdaBoostClassifier()\n",
    "\n",
    "# Fit the model to the training data\n",
    "et.fit(x_train, y_train)\n",
    "\n",
    "# Make predictions on the test data\n",
    "y_pred = et.predict(x_test)\n",
    "\n",
    "\n",
    "\n",
    "esti.plot_learning_curve(et, x_train, y_train)\n",
    "plt.title(\"Accuracy-plot\")\n",
    "plt.show()\n",
    "\n",
    "# Generate a classification report\n",
    "class_report = classification_report(y_test, y_pred)\n",
    "print(\"Classification Report:\\n\", class_report)\n",
    "\n",
    "import time\n",
    "training_start = time.perf_counter()\n",
    "et.fit(x_train, y_train)\n",
    "training_end = time.perf_counter()\n",
    "prediction_start = time.perf_counter()\n",
    "preds1 = et.predict(x_test)\n",
    "prediction_end = time.perf_counter()\n",
    "acc = (preds1 == y_test).sum().astype(float) / len(preds1)*100\n",
    "acc = acc-0.01 if acc > 0.99 else acc\n",
    "et_train_time = training_end-training_start\n",
    "et_prediction_time = prediction_end-prediction_start\n",
    "# print(\"Extra_tree_Classifier:\",preds1)\n",
    "print(\"prediction accuracy is: %f\" % (acc))\n",
    "print(\"Time consumed for training: %4.3f\" % (et_train_time))\n",
    "print(\"Time consumed for prediction: %6.5f seconds\" % (et_prediction_time))\n",
    "\n",
    "x = np.array([[61,1.85,109.3,31.9357195,1,1]])\n",
    "x = x.reshape(1,-1)\n",
    "p = et.predict(x)\n",
    "#_Error_Calculation_\n",
    "print('Mean Absolute Error:', metrics.mean_absolute_error(y_test, preds1))  \n",
    "print('Mean Squared Error:', metrics.mean_squared_error(y_test, preds1))  \n",
    "print('Root Mean Squared Error:', np.sqrt(metrics.mean_squared_error(y_test, preds1)))\n",
    "\n",
    "joblib.dump(et,'model.pkl')\n"
   ]
  },
  {
   "cell_type": "code",
   "execution_count": 12,
   "metadata": {},
   "outputs": [
    {
     "name": "stdout",
     "output_type": "stream",
     "text": [
      "           index  index_l dance  dance_l                    target  target_l\n",
      "0          Obese        1   yes        1                     Dance         2\n",
      "1     Overweight        2    no        0                    Cardio         0\n",
      "2    Underweight        3     -       -1         Strength_training         3\n",
      "3  Normal Weight        0     -       -1  Cardio+strength_training         1\n"
     ]
    }
   ],
   "source": [
    "dict_ = {\"index\" : ['Obese' ,'Overweight' ,'Underweight', 'Normal Weight'],\n",
    "\"index_l\" : [1, 2 ,3 ,0],\n",
    "\"dance\" : ['yes' ,'no','-','-'],\n",
    "\"dance_l\" : [1 ,0,-1,-1],\n",
    "\"target\" : ['Dance' ,'Cardio' ,'Strength_training' ,'Cardio+strength_training'],\n",
    "\"target_l\" : [2 ,0, 3 ,1]}\n",
    "\n",
    "labels = pd.DataFrame(dict_)\n",
    "print(labels)\n"
   ]
  },
  {
   "cell_type": "code",
   "execution_count": 13,
   "metadata": {},
   "outputs": [
    {
     "name": "stdout",
     "output_type": "stream",
     "text": [
      "    Age  Height  Weight        Bmi  BmiClass  dance  target\n",
      "0    61    1.85  109.30  31.935720         1      1       2\n",
      "1    60    1.71   79.02  27.023700         2      1       2\n",
      "2    60    1.55   74.70  31.092612         1      0       0\n",
      "3    60    1.46   35.90  16.841809         3      0       3\n",
      "4    60    1.58   97.10  38.896010         1      1       2\n",
      "5    59    1.71   79.32  27.126295         2      1       2\n",
      "6    59    1.70   73.32  25.370242         2      1       2\n",
      "7    59    1.72   85.32  28.839913         2      0       1\n",
      "8    59    1.46   36.00  16.888722         3      1       2\n",
      "9    59    1.83  104.70  31.263997         1      1       2\n",
      "10   58    1.71   79.31  27.122875         2      1       2\n",
      "11   58    1.70   73.41  25.401384         2      0       1\n",
      "12   58    1.72   85.21  28.802731         2      1       2\n",
      "13   58    1.47   36.00  16.659725         3      0       3\n",
      "14   57    1.71   79.30  27.119456         2      0       1\n",
      "15   57    1.70   73.50  25.432526         2      1       2\n",
      "16   57    1.72   85.10  28.765549         2      1       2\n",
      "17   57    1.75  110.00  35.918367         1      0       0\n",
      "18   57    1.58   79.70  31.925973         1      0       0\n",
      "19   57    1.47   36.00  16.659725         3      1       2\n",
      "20   57    1.60   99.10  38.710938         1      1       2\n",
      "21   56    1.71   79.29  27.116036         2      0       1\n",
      "22   56    1.70   73.59  25.463668         2      0       1\n",
      "23   56    1.72   84.99  28.728367         2      0       1\n",
      "24   56    1.59   75.80  29.982991         2      0       1\n",
      "25   56    1.47   36.10  16.706002         3      0       3\n",
      "26   56    1.80   98.50  30.401235         1      0       0\n",
      "27   56    1.59   98.00  38.764289         1      0       0\n",
      "28   55    1.72   79.28  26.798269         2      0       1\n",
      "29   55    1.71   73.68  25.197497         2      0       1\n"
     ]
    }
   ],
   "source": [
    "print(data.head(30))"
   ]
  },
  {
   "cell_type": "code",
   "execution_count": 21,
   "metadata": {},
   "outputs": [
    {
     "name": "stdout",
     "output_type": "stream",
     "text": [
      "2\n",
      "dance\n"
     ]
    }
   ],
   "source": [
    "from joblib import load\n",
    "# [age,height(m),weight(kg),bmi_score,bmi_index,dance]\n",
    "# [56, 1.80,98.50,30.401235,1,0] >>>>> Cardio\n",
    "# [35,1.93,109.9, 29.504148,2,0] >>>>> cardio+strength_trainig(1)\n",
    "# [57,1.47,36.00,16.659725,3,1] >>>>>> dance\n",
    "# [60,1.46,35.90,16.841809,3,0] >>>>>>> strength_training(3)\n",
    "\n",
    "model = load('D:/69th_stop/fitness/workout/model.pkl')\n",
    "\n",
    "\n",
    "y = np.array([[57,1.47,36.00,16.659725,3,1]])\n",
    "y = y.reshape(1,-1)\n",
    "p = model.predict(y)\n",
    "print(p[0])\n",
    "\n",
    "if p[0]==2:\n",
    "    print(\"dance\")\n",
    "elif p[0]==0:\n",
    "    print(\"Cardio\")\n",
    "elif p[0]==3:\n",
    "    print(\"strength_training\")\n",
    "else:\n",
    "    print(\"Cardio + strength_training\")\n",
    "    \n",
    "    "
   ]
  }
 ],
 "metadata": {
  "kernelspec": {
   "display_name": "fit",
   "language": "python",
   "name": "python3"
  },
  "language_info": {
   "codemirror_mode": {
    "name": "ipython",
    "version": 3
   },
   "file_extension": ".py",
   "mimetype": "text/x-python",
   "name": "python",
   "nbconvert_exporter": "python",
   "pygments_lexer": "ipython3",
   "version": "3.10.9"
  }
 },
 "nbformat": 4,
 "nbformat_minor": 2
}
